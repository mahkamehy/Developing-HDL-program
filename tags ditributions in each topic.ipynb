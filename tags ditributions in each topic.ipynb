{
 "cells": [
  {
   "cell_type": "code",
   "execution_count": 1,
   "id": "35472c58",
   "metadata": {},
   "outputs": [
    {
     "name": "stdout",
     "output_type": "stream",
     "text": [
      "verilog           90\n",
      "vhdl              86\n",
      "system-verilog    12\n",
      "hdl                6\n",
      "dtype: int64\n",
      "verilog           51.428571\n",
      "vhdl              49.142857\n",
      "system-verilog     6.857143\n",
      "hdl                3.428571\n",
      "dtype: float64\n"
     ]
    }
   ],
   "source": [
    "import pandas as pd\n",
    "\n",
    "df0 = pd.read_excel (r'Topic_modeling_results_per_topicc.xlsx',sheet_name='Topic_0.0')\n",
    "out = df0['tagnames'].str.split(',', expand=True).stack().value_counts()\n",
    "outPerc = (df0['tagnames'].str.split(',', expand=True).stack().value_counts()/df0['tagnames'].count())*100\n",
    "\n",
    "print (out)\n",
    "\n",
    "print (outPerc)"
   ]
  },
  {
   "cell_type": "code",
   "execution_count": 2,
   "id": "86bdb733",
   "metadata": {},
   "outputs": [],
   "source": [
    "# tags = ['vhdl',  'verilog',  'system-verilog',  'Systemc',  'lava',  'hdl', 'system-verilog-dpi',\n",
    "#         'system-verilog-assertions', 'chisel', 'vpi']\n"
   ]
  },
  {
   "cell_type": "code",
   "execution_count": 3,
   "id": "35ac662c",
   "metadata": {},
   "outputs": [
    {
     "name": "stdout",
     "output_type": "stream",
     "text": [
      "vhdl              179\n",
      "verilog            67\n",
      "system-verilog     47\n",
      "hdl                17\n",
      "dtype: int64\n",
      "vhdl              65.090909\n",
      "verilog           24.363636\n",
      "system-verilog    17.090909\n",
      "hdl                6.181818\n",
      "dtype: float64\n"
     ]
    }
   ],
   "source": [
    "import pandas as pd\n",
    "\n",
    "df1 = pd.read_excel (r'Topic_modeling_results_per_topicc.xlsx',sheet_name='Topic_1.0')\n",
    "out = df1['tagnames'].str.split(',', expand=True).stack().value_counts()\n",
    "outPerc = (df1['tagnames'].str.split(',', expand=True).stack().value_counts()/df1['tagnames'].count())*100\n",
    "\n",
    "print (out)\n",
    "\n",
    "print (outPerc)"
   ]
  },
  {
   "cell_type": "code",
   "execution_count": 4,
   "id": "5f3ebd18",
   "metadata": {},
   "outputs": [
    {
     "name": "stdout",
     "output_type": "stream",
     "text": [
      "vhdl              153\n",
      "verilog            94\n",
      "system-verilog     25\n",
      "hdl                13\n",
      "dtype: int64\n",
      "vhdl              60.714286\n",
      "verilog           37.301587\n",
      "system-verilog     9.920635\n",
      "hdl                5.158730\n",
      "dtype: float64\n"
     ]
    }
   ],
   "source": [
    "import pandas as pd\n",
    "\n",
    "df2 = pd.read_excel (r'Topic_modeling_results_per_topicc.xlsx',sheet_name='Topic_2.0')\n",
    "out = df2['tagnames'].str.split(',', expand=True).stack().value_counts()\n",
    "outPerc = (df2['tagnames'].str.split(',', expand=True).stack().value_counts()/df2['tagnames'].count())*100\n",
    "\n",
    "print (out)\n",
    "\n",
    "print (outPerc)"
   ]
  },
  {
   "cell_type": "code",
   "execution_count": 5,
   "id": "e332037f",
   "metadata": {},
   "outputs": [
    {
     "name": "stdout",
     "output_type": "stream",
     "text": [
      "verilog           231\n",
      "vhdl              176\n",
      "hdl                41\n",
      "system-verilog     38\n",
      "dtype: int64\n",
      "verilog           56.341463\n",
      "vhdl              42.926829\n",
      "hdl               10.000000\n",
      "system-verilog     9.268293\n",
      "dtype: float64\n"
     ]
    }
   ],
   "source": [
    "import pandas as pd\n",
    "\n",
    "df3 = pd.read_excel (r'Topic_modeling_results_per_topicc.xlsx',sheet_name='Topic_3.0')\n",
    "out = df3['tagnames'].str.split(',', expand=True).stack().value_counts()\n",
    "outPerc = (df3['tagnames'].str.split(',', expand=True).stack().value_counts()/df3['tagnames'].count())*100\n",
    "\n",
    "print (out)\n",
    "\n",
    "print (outPerc)"
   ]
  },
  {
   "cell_type": "code",
   "execution_count": 6,
   "id": "2ece704f",
   "metadata": {},
   "outputs": [
    {
     "name": "stdout",
     "output_type": "stream",
     "text": [
      "vhdl              357\n",
      "verilog           331\n",
      "system-verilog     60\n",
      "hdl                43\n",
      "dtype: int64\n",
      "vhdl              50.854701\n",
      "verilog           47.150997\n",
      "system-verilog     8.547009\n",
      "hdl                6.125356\n",
      "dtype: float64\n"
     ]
    }
   ],
   "source": [
    "import pandas as pd\n",
    "\n",
    "df4 = pd.read_excel (r'Topic_modeling_results_per_topicc.xlsx',sheet_name='Topic_4.0')\n",
    "out = df4['tagnames'].str.split(',', expand=True).stack().value_counts()\n",
    "outPerc = (df4['tagnames'].str.split(',', expand=True).stack().value_counts()/df4['tagnames'].count())*100\n",
    "\n",
    "print (out)\n",
    "\n",
    "print (outPerc)"
   ]
  },
  {
   "cell_type": "code",
   "execution_count": 7,
   "id": "1bfedfc5",
   "metadata": {},
   "outputs": [
    {
     "name": "stdout",
     "output_type": "stream",
     "text": [
      "vhdl              68\n",
      "verilog           50\n",
      "system-verilog     4\n",
      "hdl                3\n",
      "dtype: int64\n",
      "vhdl              57.627119\n",
      "verilog           42.372881\n",
      "system-verilog     3.389831\n",
      "hdl                2.542373\n",
      "dtype: float64\n"
     ]
    }
   ],
   "source": [
    "import pandas as pd\n",
    "\n",
    "df5 = pd.read_excel (r'Topic_modeling_results_per_topicc.xlsx',sheet_name='Topic_5.0')\n",
    "out = df5['tagnames'].str.split(',', expand=True).stack().value_counts()\n",
    "outPerc = (df5['tagnames'].str.split(',', expand=True).stack().value_counts()/df5['tagnames'].count())*100\n",
    "\n",
    "print (out)\n",
    "\n",
    "print (outPerc)"
   ]
  },
  {
   "cell_type": "code",
   "execution_count": 8,
   "id": "33c122d6",
   "metadata": {},
   "outputs": [
    {
     "name": "stdout",
     "output_type": "stream",
     "text": [
      "verilog           123\n",
      "vhdl              118\n",
      "system-verilog     14\n",
      "hdl                12\n",
      "dtype: int64\n",
      "verilog           50.617284\n",
      "vhdl              48.559671\n",
      "system-verilog     5.761317\n",
      "hdl                4.938272\n",
      "dtype: float64\n"
     ]
    }
   ],
   "source": [
    "import pandas as pd\n",
    "\n",
    "df6 = pd.read_excel (r'Topic_modeling_results_per_topicc.xlsx',sheet_name='Topic_6.0')\n",
    "out = df6['tagnames'].str.split(',', expand=True).stack().value_counts()\n",
    "outPerc = (df6['tagnames'].str.split(',', expand=True).stack().value_counts()/df6['tagnames'].count())*100\n",
    "\n",
    "print (out)\n",
    "\n",
    "print (outPerc)"
   ]
  },
  {
   "cell_type": "code",
   "execution_count": 9,
   "id": "9d6b509f",
   "metadata": {},
   "outputs": [
    {
     "name": "stdout",
     "output_type": "stream",
     "text": [
      "verilog           181\n",
      "vhdl              151\n",
      "system-verilog     36\n",
      "hdl                18\n",
      "dtype: int64\n",
      "verilog           53.550296\n",
      "vhdl              44.674556\n",
      "system-verilog    10.650888\n",
      "hdl                5.325444\n",
      "dtype: float64\n"
     ]
    }
   ],
   "source": [
    "import pandas as pd\n",
    "\n",
    "df7 = pd.read_excel (r'Topic_modeling_results_per_topicc.xlsx',sheet_name='Topic_7.0')\n",
    "out = df7['tagnames'].str.split(',', expand=True).stack().value_counts()\n",
    "outPerc = (df7['tagnames'].str.split(',', expand=True).stack().value_counts()/df7['tagnames'].count())*100\n",
    "\n",
    "print (out)\n",
    "\n",
    "print (outPerc)"
   ]
  },
  {
   "cell_type": "code",
   "execution_count": 10,
   "id": "dad2a826",
   "metadata": {},
   "outputs": [
    {
     "name": "stdout",
     "output_type": "stream",
     "text": [
      "verilog           171\n",
      "vhdl              133\n",
      "hdl                29\n",
      "system-verilog     16\n",
      "dtype: int64\n",
      "verilog           55.700326\n",
      "vhdl              43.322476\n",
      "hdl                9.446254\n",
      "system-verilog     5.211726\n",
      "dtype: float64\n"
     ]
    }
   ],
   "source": [
    "import pandas as pd\n",
    "\n",
    "df8 = pd.read_excel (r'Topic_modeling_results_per_topicc.xlsx',sheet_name='Topic_8.0')\n",
    "out = df8['tagnames'].str.split(',', expand=True).stack().value_counts()\n",
    "outPerc = (df8['tagnames'].str.split(',', expand=True).stack().value_counts()/df8['tagnames'].count())*100\n",
    "\n",
    "print (out)\n",
    "\n",
    "print (outPerc)"
   ]
  },
  {
   "cell_type": "code",
   "execution_count": 11,
   "id": "4d53e06b",
   "metadata": {},
   "outputs": [
    {
     "name": "stdout",
     "output_type": "stream",
     "text": [
      "vhdl              197\n",
      "verilog           147\n",
      "hdl                46\n",
      "system-verilog     37\n",
      "dtype: int64\n",
      "vhdl              55.965909\n",
      "verilog           41.761364\n",
      "hdl               13.068182\n",
      "system-verilog    10.511364\n",
      "dtype: float64\n"
     ]
    }
   ],
   "source": [
    "import pandas as pd\n",
    "\n",
    "df9 = pd.read_excel (r'Topic_modeling_results_per_topicc.xlsx',sheet_name='Topic_9.0')\n",
    "out = df9['tagnames'].str.split(',', expand=True).stack().value_counts()\n",
    "outPerc = (df9['tagnames'].str.split(',', expand=True).stack().value_counts()/df9['tagnames'].count())*100\n",
    "\n",
    "print (out)\n",
    "\n",
    "print (outPerc)"
   ]
  },
  {
   "cell_type": "code",
   "execution_count": 12,
   "id": "28fce11d",
   "metadata": {},
   "outputs": [
    {
     "name": "stdout",
     "output_type": "stream",
     "text": [
      "verilog           131\n",
      "vhdl               83\n",
      "system-verilog     21\n",
      "hdl                12\n",
      "dtype: int64\n",
      "verilog           57.709251\n",
      "vhdl              36.563877\n",
      "system-verilog     9.251101\n",
      "hdl                5.286344\n",
      "dtype: float64\n"
     ]
    }
   ],
   "source": [
    "import pandas as pd\n",
    "\n",
    "df10 = pd.read_excel (r'Topic_modeling_results_per_topicc.xlsx',sheet_name='Topic_10.0')\n",
    "out = df10['tagnames'].str.split(',', expand=True).stack().value_counts()\n",
    "outPerc = (df10['tagnames'].str.split(',', expand=True).stack().value_counts()/df10['tagnames'].count())*100\n",
    "\n",
    "print (out)\n",
    "\n",
    "print (outPerc)"
   ]
  },
  {
   "cell_type": "code",
   "execution_count": 14,
   "id": "fa35f22d",
   "metadata": {},
   "outputs": [
    {
     "name": "stdout",
     "output_type": "stream",
     "text": [
      "vhdl              1701\n",
      "verilog           1616\n",
      "system-verilog     310\n",
      "hdl                240\n",
      "dtype: int64\n",
      "vhdl              50.044131\n",
      "verilog           47.543395\n",
      "system-verilog     9.120330\n",
      "hdl                7.060900\n",
      "dtype: float64\n"
     ]
    }
   ],
   "source": [
    "import pandas as pd\n",
    "\n",
    "df = pd.read_excel (r'finalresult.xlsx')\n",
    "out = df['tagnames'].str.split(',', expand=True).stack().value_counts()\n",
    "outPerc = (df['tagnames'].str.split(',', expand=True).stack().value_counts()/df['tagnames'].count())*100\n",
    "\n",
    "print (out)\n",
    "\n",
    "print (outPerc)"
   ]
  }
 ],
 "metadata": {
  "kernelspec": {
   "display_name": "Python 3",
   "language": "python",
   "name": "python3"
  },
  "language_info": {
   "codemirror_mode": {
    "name": "ipython",
    "version": 3
   },
   "file_extension": ".py",
   "mimetype": "text/x-python",
   "name": "python",
   "nbconvert_exporter": "python",
   "pygments_lexer": "ipython3",
   "version": "3.8.8"
  }
 },
 "nbformat": 4,
 "nbformat_minor": 5
}
