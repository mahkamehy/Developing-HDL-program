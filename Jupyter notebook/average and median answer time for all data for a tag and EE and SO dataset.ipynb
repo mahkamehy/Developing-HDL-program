{
 "cells": [
  {
   "cell_type": "code",
   "execution_count": 2,
   "id": "ef3c6499",
   "metadata": {},
   "outputs": [
    {
     "name": "stdout",
     "output_type": "stream",
     "text": [
      "3867\n",
      "1701\n",
      "median Answer Date:  0 days 02:09:00\n"
     ]
    }
   ],
   "source": [
    "import pandas as pd\n",
    "\n",
    "# avreage for all data for 5 top tags, \n",
    "#the name of tags can be changed \n",
    "# mean and median can be calculated\n",
    "\n",
    "df0 = pd.read_excel (r'finalresult.xlsx')\n",
    "df0.creationdate = pd.to_datetime(df0['creationdate'])\n",
    "df0.AcceptedAnswerdate = pd.to_datetime(df0['AcceptedAnswerdate'])\n",
    "\n",
    "df0['diff'] = df0['AcceptedAnswerdate'] - df0['creationdate']\n",
    "# df01 = df0[df0['tagnames'].str.contains('hdl')]\n",
    "# print(df01)\n",
    "df01 = (df0.assign(tagnames = df0['tagnames'].str.split(','))\n",
    "         .explode('tagnames')\n",
    "         .reset_index(drop=True))\n",
    "print(len(df01.index))\n",
    "value_list = ['vhdl']\n",
    "df02 = df01[df01['tagnames'].isin(value_list)]\n",
    "# df02['diff'] = df02['AcceptedAnswerdate'] - df02['creationdate']\n",
    "print(len(df02.index))\n",
    "print('median Answer Date: ', df02['diff'].median())"
   ]
  },
  {
   "cell_type": "code",
   "execution_count": 3,
   "id": "d4fe520c",
   "metadata": {},
   "outputs": [
    {
     "name": "stdout",
     "output_type": "stream",
     "text": [
      "3399\n",
      "median Answer Date EE:  0 days 01:44:00\n"
     ]
    }
   ],
   "source": [
    "import pandas as pd\n",
    "\n",
    "# median answer time for EE forums\n",
    "\n",
    "df0 = pd.read_excel (r'finalresult.xlsx')\n",
    "df0.creationdate = pd.to_datetime(df0['creationdate'])\n",
    "df0.AcceptedAnswerdate = pd.to_datetime(df0['AcceptedAnswerdate'])\n",
    "\n",
    "df0['diff'] = df0['AcceptedAnswerdate'] - df0['creationdate']\n",
    "\n",
    "  \n",
    "\n",
    "# df0['diff'] = df0['AcceptedAnswerdate'] - df0['creationdate']\n",
    "print(len(df0.index))\n",
    "print('median Answer Date EE: ', df0['diff'].median())"
   ]
  },
  {
   "cell_type": "code",
   "execution_count": 4,
   "id": "e2a48bc2",
   "metadata": {},
   "outputs": [
    {
     "name": "stdout",
     "output_type": "stream",
     "text": [
      "13301\n",
      "median Answer Date SO:  0 days 02:19:00\n"
     ]
    }
   ],
   "source": [
    "import pandas as pd\n",
    "\n",
    "# median answer time for EE forums \n",
    "\n",
    "df0 = pd.read_excel (r'finalresultc.xlsx')\n",
    "df0.creationdate = pd.to_datetime(df0['creationdate'])\n",
    "df0.AcceptedAnswerdate = pd.to_datetime(df0['AcceptedAnswerdate'])\n",
    "\n",
    "df0['diff'] = df0['AcceptedAnswerdate'] - df0['creationdate']\n",
    "\n",
    "  \n",
    "\n",
    "# df0['diff'] = df0['AcceptedAnswerdate'] - df0['creationdate']\n",
    "print(len(df0.index))\n",
    "print('median Answer Date SO: ', df0['diff'].median())"
   ]
  },
  {
   "cell_type": "code",
   "execution_count": null,
   "id": "2f06116e",
   "metadata": {},
   "outputs": [],
   "source": []
  }
 ],
 "metadata": {
  "kernelspec": {
   "display_name": "Python 3",
   "language": "python",
   "name": "python3"
  },
  "language_info": {
   "codemirror_mode": {
    "name": "ipython",
    "version": 3
   },
   "file_extension": ".py",
   "mimetype": "text/x-python",
   "name": "python",
   "nbconvert_exporter": "python",
   "pygments_lexer": "ipython3",
   "version": "3.8.8"
  }
 },
 "nbformat": 4,
 "nbformat_minor": 5
}
