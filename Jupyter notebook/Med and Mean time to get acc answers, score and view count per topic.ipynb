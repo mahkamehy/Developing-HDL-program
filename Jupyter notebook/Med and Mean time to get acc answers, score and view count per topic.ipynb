{
 "cells": [
  {
   "cell_type": "code",
   "execution_count": 54,
   "id": "cde6fe2a",
   "metadata": {},
   "outputs": [
    {
     "name": "stdout",
     "output_type": "stream",
     "text": [
      "Topic 0 Average Answer Date:  1 days 04:49:23.835616438\n"
     ]
    }
   ],
   "source": [
    "df1 = pd.read_excel (r'Topic_modeling_result_per_topic.xlsx',sheet_name='Topic_0.0')\n",
    "# print(df1)\n",
    "df1.creationdate = pd.to_datetime(df1['creationdate'])\n",
    "df1.AcceptedAnswerdate = pd.to_datetime(df1['AcceptedAnswerdate'])\n",
    "df1['diff'] = df1['AcceptedAnswerdate'] - df1['creationdate']\n",
    "print('Topic 0 Average Answer Date: ', df1['diff'].mean())\n",
    "# print(df1)"
   ]
  },
  {
   "cell_type": "code",
   "execution_count": 55,
   "id": "c8447b8a",
   "metadata": {},
   "outputs": [
    {
     "name": "stdout",
     "output_type": "stream",
     "text": [
      "Topic 1 Average Answer Date:  2 days 02:37:23.314285714\n"
     ]
    }
   ],
   "source": [
    "df1 = pd.read_excel (r'Topic_modeling_result_per_topic.xlsx',sheet_name='Topic_1.0')\n",
    "# print(df1)\n",
    "df1.creationdate = pd.to_datetime(df1['creationdate'])\n",
    "df1.AcceptedAnswerdate = pd.to_datetime(df1['AcceptedAnswerdate'])\n",
    "df1['diff'] = df1['AcceptedAnswerdate'] - df1['creationdate']\n",
    "print('Topic 1 Average Answer Date: ', df1['diff'].mean())\n",
    "# print(df1)"
   ]
  },
  {
   "cell_type": "code",
   "execution_count": 56,
   "id": "9f2544b9",
   "metadata": {},
   "outputs": [
    {
     "name": "stdout",
     "output_type": "stream",
     "text": [
      "Topic 2 Average Answer Date:  4 days 02:49:31.337579617\n"
     ]
    }
   ],
   "source": [
    "df1 = pd.read_excel (r'Topic_modeling_result_per_topic.xlsx',sheet_name='Topic_2.0')\n",
    "# print(df1)\n",
    "df1.creationdate = pd.to_datetime(df1['creationdate'])\n",
    "df1.AcceptedAnswerdate = pd.to_datetime(df1['AcceptedAnswerdate'])\n",
    "df1['diff'] = df1['AcceptedAnswerdate'] - df1['creationdate']\n",
    "print('Topic 2 Average Answer Date: ', df1['diff'].mean())\n",
    "# print(df1)"
   ]
  },
  {
   "cell_type": "code",
   "execution_count": 57,
   "id": "087bef6b",
   "metadata": {},
   "outputs": [
    {
     "name": "stdout",
     "output_type": "stream",
     "text": [
      "Topic 3 Average Answer Date:  2 days 03:37:47.430830039\n"
     ]
    }
   ],
   "source": [
    "df1 = pd.read_excel (r'Topic_modeling_result_per_topic.xlsx',sheet_name='Topic_3.0')\n",
    "# print(df1)\n",
    "df1.creationdate = pd.to_datetime(df1['creationdate'])\n",
    "df1.AcceptedAnswerdate = pd.to_datetime(df1['AcceptedAnswerdate'])\n",
    "df1['diff'] = df1['AcceptedAnswerdate'] - df1['creationdate']\n",
    "print('Topic 3 Average Answer Date: ', df1['diff'].mean())\n",
    "# print(df1)"
   ]
  },
  {
   "cell_type": "code",
   "execution_count": 58,
   "id": "bae90efc",
   "metadata": {},
   "outputs": [
    {
     "name": "stdout",
     "output_type": "stream",
     "text": [
      "Topic 4 Average Answer Date:  2 days 21:45:36.569343065\n"
     ]
    }
   ],
   "source": [
    "df1 = pd.read_excel (r'Topic_modeling_result_per_topic.xlsx',sheet_name='Topic_4.0')\n",
    "# print(df1)\n",
    "df1.creationdate = pd.to_datetime(df1['creationdate'])\n",
    "df1.AcceptedAnswerdate = pd.to_datetime(df1['AcceptedAnswerdate'])\n",
    "df1['diff'] = df1['AcceptedAnswerdate'] - df1['creationdate']\n",
    "print('Topic 4 Average Answer Date: ', df1['diff'].mean())\n",
    "# print(df1)"
   ]
  },
  {
   "cell_type": "code",
   "execution_count": 59,
   "id": "0f8c24ff",
   "metadata": {},
   "outputs": [
    {
     "name": "stdout",
     "output_type": "stream",
     "text": [
      "Topic 5 Average Answer Date:  8 days 09:11:25.423728813\n"
     ]
    }
   ],
   "source": [
    "df1 = pd.read_excel (r'Topic_modeling_result_per_topic.xlsx',sheet_name='Topic_5.0')\n",
    "# print(df1)\n",
    "df1.creationdate = pd.to_datetime(df1['creationdate'])\n",
    "df1.AcceptedAnswerdate = pd.to_datetime(df1['AcceptedAnswerdate'])\n",
    "df1['diff'] = df1['AcceptedAnswerdate'] - df1['creationdate']\n",
    "print('Topic 5 Average Answer Date: ', df1['diff'].mean())\n",
    "# print(df1)"
   ]
  },
  {
   "cell_type": "code",
   "execution_count": 60,
   "id": "219d4a9a",
   "metadata": {},
   "outputs": [
    {
     "name": "stdout",
     "output_type": "stream",
     "text": [
      "Topic 6 Average Answer Date:  7 days 09:15:02.542372881\n"
     ]
    }
   ],
   "source": [
    "df1 = pd.read_excel (r'Topic_modeling_result_per_topic.xlsx',sheet_name='Topic_6.0')\n",
    "# print(df1)\n",
    "df1.creationdate = pd.to_datetime(df1['creationdate'])\n",
    "df1.AcceptedAnswerdate = pd.to_datetime(df1['AcceptedAnswerdate'])\n",
    "df1['diff'] = df1['AcceptedAnswerdate'] - df1['creationdate']\n",
    "print('Topic 6 Average Answer Date: ', df1['diff'].mean())\n",
    "# print(df1)"
   ]
  },
  {
   "cell_type": "code",
   "execution_count": 61,
   "id": "aaef48da",
   "metadata": {},
   "outputs": [
    {
     "name": "stdout",
     "output_type": "stream",
     "text": [
      "Topic 7 Average Answer Date:  0 days 23:56:17.900552486\n"
     ]
    }
   ],
   "source": [
    "df1 = pd.read_excel (r'Topic_modeling_result_per_topic.xlsx',sheet_name='Topic_7.0')\n",
    "# print(df1)\n",
    "df1.creationdate = pd.to_datetime(df1['creationdate'])\n",
    "df1.AcceptedAnswerdate = pd.to_datetime(df1['AcceptedAnswerdate'])\n",
    "df1['diff'] = df1['AcceptedAnswerdate'] - df1['creationdate']\n",
    "print('Topic 7 Average Answer Date: ', df1['diff'].mean())\n",
    "# print(df1)"
   ]
  },
  {
   "cell_type": "code",
   "execution_count": 62,
   "id": "4a83bef4",
   "metadata": {},
   "outputs": [
    {
     "name": "stdout",
     "output_type": "stream",
     "text": [
      "Topic 8 Average Answer Date:  2 days 21:47:57.647058823\n"
     ]
    }
   ],
   "source": [
    "df1 = pd.read_excel (r'Topic_modeling_result_per_topic.xlsx',sheet_name='Topic_8.0')\n",
    "# print(df1)\n",
    "df1.creationdate = pd.to_datetime(df1['creationdate'])\n",
    "df1.AcceptedAnswerdate = pd.to_datetime(df1['AcceptedAnswerdate'])\n",
    "df1['diff'] = df1['AcceptedAnswerdate'] - df1['creationdate']\n",
    "print('Topic 8 Average Answer Date: ', df1['diff'].mean())\n",
    "# print(df1)"
   ]
  },
  {
   "cell_type": "code",
   "execution_count": 63,
   "id": "b1afd116",
   "metadata": {},
   "outputs": [
    {
     "name": "stdout",
     "output_type": "stream",
     "text": [
      "Topic 9 Average Answer Date:  17 days 06:47:53.038674033\n"
     ]
    }
   ],
   "source": [
    "df1 = pd.read_excel (r'Topic_modeling_result_per_topic.xlsx',sheet_name='Topic_9.0')\n",
    "# print(df1)\n",
    "df1.creationdate = pd.to_datetime(df1['creationdate'])\n",
    "df1.AcceptedAnswerdate = pd.to_datetime(df1['AcceptedAnswerdate'])\n",
    "df1['diff'] = df1['AcceptedAnswerdate'] - df1['creationdate']\n",
    "print('Topic 9 Average Answer Date: ', df1['diff'].mean())\n",
    "# print(df1)"
   ]
  },
  {
   "cell_type": "code",
   "execution_count": 76,
   "id": "faf20eff",
   "metadata": {},
   "outputs": [
    {
     "name": "stdout",
     "output_type": "stream",
     "text": [
      "Topic 10 Average Answer Date:  6 days 19:20:46.615384615\n"
     ]
    }
   ],
   "source": [
    "df1 = pd.read_excel (r'Topic_modeling_result_per_topic.xlsx',sheet_name='Topic_10.0')\n",
    "# print(df1)\n",
    "df1.creationdate = pd.to_datetime(df1['creationdate'])\n",
    "df1.AcceptedAnswerdate = pd.to_datetime(df1['AcceptedAnswerdate'])\n",
    "df1['diff'] = df1['AcceptedAnswerdate'] - df1['creationdate']\n",
    "print('Topic 10 Average Answer Date: ', df1['diff'].mean())\n",
    "# print(df1)"
   ]
  },
  {
   "cell_type": "code",
   "execution_count": 77,
   "id": "e89c1496",
   "metadata": {},
   "outputs": [
    {
     "name": "stdout",
     "output_type": "stream",
     "text": [
      "Topic 10 Median viewcount:  2544.7577092511015\n"
     ]
    }
   ],
   "source": [
    "import pandas as pd\n",
    "df1 = pd.read_excel (r'Topic_modeling_result_per_topic.xlsx',sheet_name='Topic_10.0')\n",
    "print('Topic 10 Median viewcount: ', df1['viewcount'].mean())"
   ]
  },
  {
   "cell_type": "code",
   "execution_count": 78,
   "id": "8e9baaad",
   "metadata": {},
   "outputs": [
    {
     "name": "stdout",
     "output_type": "stream",
     "text": [
      "Topic 9 Median viewcount:  2905.8323863636365\n"
     ]
    }
   ],
   "source": [
    "import pandas as pd\n",
    "df1 = pd.read_excel (r'Topic_modeling_result_per_topic.xlsx',sheet_name='Topic_9.0')\n",
    "print('Topic 9 Median viewcount: ', df1['viewcount'].mean())"
   ]
  },
  {
   "cell_type": "code",
   "execution_count": 79,
   "id": "2843f562",
   "metadata": {},
   "outputs": [
    {
     "name": "stdout",
     "output_type": "stream",
     "text": [
      "Topic 8 Median viewcount:  1938.1009771986971\n"
     ]
    }
   ],
   "source": [
    "import pandas as pd\n",
    "df1 = pd.read_excel (r'Topic_modeling_result_per_topic.xlsx',sheet_name='Topic_8.0')\n",
    "print('Topic 8 Median viewcount: ', df1['viewcount'].mean())"
   ]
  },
  {
   "cell_type": "code",
   "execution_count": 80,
   "id": "3d42cb79",
   "metadata": {},
   "outputs": [
    {
     "name": "stdout",
     "output_type": "stream",
     "text": [
      "Topic 7 Median viewcount:  2559.5295857988167\n"
     ]
    }
   ],
   "source": [
    "import pandas as pd\n",
    "df1 = pd.read_excel (r'Topic_modeling_result_per_topic.xlsx',sheet_name='Topic_7.0')\n",
    "print('Topic 7 Median viewcount: ', df1['viewcount'].mean())"
   ]
  },
  {
   "cell_type": "code",
   "execution_count": 81,
   "id": "b7925033",
   "metadata": {},
   "outputs": [
    {
     "name": "stdout",
     "output_type": "stream",
     "text": [
      "Topic 6 Median viewcount:  1349.0493827160494\n"
     ]
    }
   ],
   "source": [
    "import pandas as pd\n",
    "df1 = pd.read_excel (r'Topic_modeling_result_per_topic.xlsx',sheet_name='Topic_6.0')\n",
    "print('Topic 6 Median viewcount: ', df1['viewcount'].mean())"
   ]
  },
  {
   "cell_type": "code",
   "execution_count": 82,
   "id": "9c80469e",
   "metadata": {},
   "outputs": [
    {
     "name": "stdout",
     "output_type": "stream",
     "text": [
      "Topic 5 Median viewcount:  1368.1694915254238\n"
     ]
    }
   ],
   "source": [
    "import pandas as pd\n",
    "df1 = pd.read_excel (r'Topic_modeling_result_per_topic.xlsx',sheet_name='Topic_5.0')\n",
    "print('Topic 5 Median viewcount: ', df1['viewcount'].mean())"
   ]
  },
  {
   "cell_type": "code",
   "execution_count": 83,
   "id": "c926d028",
   "metadata": {},
   "outputs": [
    {
     "name": "stdout",
     "output_type": "stream",
     "text": [
      "Topic 4 Median viewcount:  1780.4985754985755\n"
     ]
    }
   ],
   "source": [
    "import pandas as pd\n",
    "df1 = pd.read_excel (r'Topic_modeling_result_per_topic.xlsx',sheet_name='Topic_4.0')\n",
    "print('Topic 4 Median viewcount: ', df1['viewcount'].mean())"
   ]
  },
  {
   "cell_type": "code",
   "execution_count": 84,
   "id": "9b1e086f",
   "metadata": {},
   "outputs": [
    {
     "name": "stdout",
     "output_type": "stream",
     "text": [
      "Topic 3 Median viewcount:  2644.663414634146\n"
     ]
    }
   ],
   "source": [
    "import pandas as pd\n",
    "df1 = pd.read_excel (r'Topic_modeling_result_per_topic.xlsx',sheet_name='Topic_3.0')\n",
    "print('Topic 3 Median viewcount: ', df1['viewcount'].mean())"
   ]
  },
  {
   "cell_type": "code",
   "execution_count": 85,
   "id": "707e481f",
   "metadata": {},
   "outputs": [
    {
     "name": "stdout",
     "output_type": "stream",
     "text": [
      "Topic 2 Median viewcount:  3024.9166666666665\n"
     ]
    }
   ],
   "source": [
    "import pandas as pd\n",
    "df1 = pd.read_excel (r'Topic_modeling_result_per_topic.xlsx',sheet_name='Topic_2.0')\n",
    "print('Topic 2 Median viewcount: ', df1['viewcount'].mean())"
   ]
  },
  {
   "cell_type": "code",
   "execution_count": 86,
   "id": "f31b03ef",
   "metadata": {},
   "outputs": [
    {
     "name": "stdout",
     "output_type": "stream",
     "text": [
      "Topic 1 Median viewcount:  3655.461818181818\n"
     ]
    }
   ],
   "source": [
    "import pandas as pd\n",
    "df1 = pd.read_excel (r'Topic_modeling_result_per_topic.xlsx',sheet_name='Topic_1.0')\n",
    "print('Topic 1 Median viewcount: ', df1['viewcount'].mean())"
   ]
  },
  {
   "cell_type": "code",
   "execution_count": 87,
   "id": "a8a4975c",
   "metadata": {},
   "outputs": [
    {
     "name": "stdout",
     "output_type": "stream",
     "text": [
      "Topic 0 Median viewcount:  1767.4171428571428\n"
     ]
    }
   ],
   "source": [
    "import pandas as pd\n",
    "df1 = pd.read_excel (r'Topic_modeling_result_per_topic.xlsx',sheet_name='Topic_0.0')\n",
    "print('Topic 0 Median viewcount: ', df1['viewcount'].mean())"
   ]
  },
  {
   "cell_type": "code",
   "execution_count": 100,
   "id": "58a65027",
   "metadata": {},
   "outputs": [
    {
     "name": "stdout",
     "output_type": "stream",
     "text": [
      "Topic 0 Median score:  0.9542857142857143\n"
     ]
    }
   ],
   "source": [
    "import pandas as pd\n",
    "df1 = pd.read_excel (r'Topic_modeling_result_per_topic.xlsx',sheet_name='Topic_0.0')\n",
    "print('Topic 0 Median score: ', df1['score'].mean())"
   ]
  },
  {
   "cell_type": "code",
   "execution_count": 101,
   "id": "207d95b2",
   "metadata": {},
   "outputs": [
    {
     "name": "stdout",
     "output_type": "stream",
     "text": [
      "Topic 1 Median score:  1.5272727272727273\n"
     ]
    }
   ],
   "source": [
    "import pandas as pd\n",
    "df1 = pd.read_excel (r'Topic_modeling_result_per_topic.xlsx',sheet_name='Topic_1.0')\n",
    "print('Topic 1 Median score: ', df1['score'].mean())"
   ]
  },
  {
   "cell_type": "code",
   "execution_count": 102,
   "id": "663c32f4",
   "metadata": {},
   "outputs": [
    {
     "name": "stdout",
     "output_type": "stream",
     "text": [
      "Topic 2 Median score:  1.2103174603174602\n"
     ]
    }
   ],
   "source": [
    "import pandas as pd\n",
    "df1 = pd.read_excel (r'Topic_modeling_result_per_topic.xlsx',sheet_name='Topic_2.0')\n",
    "print('Topic 2 Median score: ', df1['score'].mean())"
   ]
  },
  {
   "cell_type": "code",
   "execution_count": 103,
   "id": "9ef3c79e",
   "metadata": {},
   "outputs": [
    {
     "name": "stdout",
     "output_type": "stream",
     "text": [
      "Topic 3 Median score:  2.2634146341463413\n"
     ]
    }
   ],
   "source": [
    "import pandas as pd\n",
    "df1 = pd.read_excel (r'Topic_modeling_result_per_topic.xlsx',sheet_name='Topic_3.0')\n",
    "print('Topic 3 Median score: ', df1['score'].mean())"
   ]
  },
  {
   "cell_type": "code",
   "execution_count": 104,
   "id": "e899ee6a",
   "metadata": {},
   "outputs": [
    {
     "name": "stdout",
     "output_type": "stream",
     "text": [
      "Topic 4 Median score:  0.6424501424501424\n"
     ]
    }
   ],
   "source": [
    "import pandas as pd\n",
    "df1 = pd.read_excel (r'Topic_modeling_result_per_topic.xlsx',sheet_name='Topic_4.0')\n",
    "print('Topic 4 Median score: ', df1['score'].mean())"
   ]
  },
  {
   "cell_type": "code",
   "execution_count": 105,
   "id": "9ccf2e2e",
   "metadata": {},
   "outputs": [
    {
     "name": "stdout",
     "output_type": "stream",
     "text": [
      "Topic 5 Median score:  1.0423728813559323\n"
     ]
    }
   ],
   "source": [
    "import pandas as pd\n",
    "df1 = pd.read_excel (r'Topic_modeling_result_per_topic.xlsx',sheet_name='Topic_5.0')\n",
    "print('Topic 5 Median score: ', df1['score'].mean())"
   ]
  },
  {
   "cell_type": "code",
   "execution_count": 106,
   "id": "d27a9531",
   "metadata": {},
   "outputs": [
    {
     "name": "stdout",
     "output_type": "stream",
     "text": [
      "Topic 6 Median score:  0.831275720164609\n"
     ]
    }
   ],
   "source": [
    "import pandas as pd\n",
    "df1 = pd.read_excel (r'Topic_modeling_result_per_topic.xlsx',sheet_name='Topic_6.0')\n",
    "print('Topic 6 Median score: ', df1['score'].mean())"
   ]
  },
  {
   "cell_type": "code",
   "execution_count": 107,
   "id": "d47cef2c",
   "metadata": {},
   "outputs": [
    {
     "name": "stdout",
     "output_type": "stream",
     "text": [
      "Topic 7 Median score:  0.9970414201183432\n"
     ]
    }
   ],
   "source": [
    "import pandas as pd\n",
    "df1 = pd.read_excel (r'Topic_modeling_result_per_topic.xlsx',sheet_name='Topic_7.0')\n",
    "print('Topic 7 Median score: ', df1['score'].mean())"
   ]
  },
  {
   "cell_type": "code",
   "execution_count": 108,
   "id": "266980ad",
   "metadata": {},
   "outputs": [
    {
     "name": "stdout",
     "output_type": "stream",
     "text": [
      "Topic 8 Median score:  1.3452768729641693\n"
     ]
    }
   ],
   "source": [
    "import pandas as pd\n",
    "df1 = pd.read_excel (r'Topic_modeling_result_per_topic.xlsx',sheet_name='Topic_8.0')\n",
    "print('Topic 8 Median score: ', df1['score'].mean())"
   ]
  },
  {
   "cell_type": "code",
   "execution_count": 109,
   "id": "7ba70d28",
   "metadata": {},
   "outputs": [
    {
     "name": "stdout",
     "output_type": "stream",
     "text": [
      "Topic 9 Median score:  2.846590909090909\n"
     ]
    }
   ],
   "source": [
    "import pandas as pd\n",
    "df1 = pd.read_excel (r'Topic_modeling_result_per_topic.xlsx',sheet_name='Topic_9.0')\n",
    "print('Topic 9 Median score: ', df1['score'].mean())"
   ]
  },
  {
   "cell_type": "code",
   "execution_count": 110,
   "id": "af53a521",
   "metadata": {},
   "outputs": [
    {
     "name": "stdout",
     "output_type": "stream",
     "text": [
      "Topic 10 Median score:  1.0969162995594715\n"
     ]
    }
   ],
   "source": [
    "import pandas as pd\n",
    "df1 = pd.read_excel (r'Topic_modeling_result_per_topic.xlsx',sheet_name='Topic_10.0')\n",
    "print('Topic 10 Median score: ', df1['score'].mean())"
   ]
  },
  {
   "cell_type": "code",
   "execution_count": null,
   "id": "9d035d7b",
   "metadata": {},
   "outputs": [],
   "source": []
  },
  {
   "cell_type": "code",
   "execution_count": null,
   "id": "f56476bf",
   "metadata": {},
   "outputs": [],
   "source": []
  }
 ],
 "metadata": {
  "kernelspec": {
   "display_name": "Python 3",
   "language": "python",
   "name": "python3"
  },
  "language_info": {
   "codemirror_mode": {
    "name": "ipython",
    "version": 3
   },
   "file_extension": ".py",
   "mimetype": "text/x-python",
   "name": "python",
   "nbconvert_exporter": "python",
   "pygments_lexer": "ipython3",
   "version": "3.8.8"
  }
 },
 "nbformat": 4,
 "nbformat_minor": 5
}
