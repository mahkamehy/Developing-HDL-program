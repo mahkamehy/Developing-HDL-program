{
 "cells": [
  {
   "cell_type": "code",
   "execution_count": null,
   "id": "5cb720f4",
   "metadata": {},
   "outputs": [],
   "source": [
    "\n",
    "#random selection \n",
    "\n",
    "import pandas as pd\n",
    "df = pd.read_csv(r\"result.csv\")\n",
    "sample_all = df.sample(n=375, random_state=1)\n",
    "tags = ['vhdl',  'verilog',  'system-verilog',  'systemc',  'lava',  'hdl', 'system-verilog-dpi',\n",
    "        'system-verilog-assertions', 'chisel', 'vpi']\n",
    "data = df[df['tagname'].isin(tags)]\n",
    "data_selected = data.sample(n=375, random_state=1)\n"
   ]
  }
 ],
 "metadata": {
  "kernelspec": {
   "display_name": "Python 3",
   "language": "python",
   "name": "python3"
  },
  "language_info": {
   "codemirror_mode": {
    "name": "ipython",
    "version": 3
   },
   "file_extension": ".py",
   "mimetype": "text/x-python",
   "name": "python",
   "nbconvert_exporter": "python",
   "pygments_lexer": "ipython3",
   "version": "3.8.8"
  }
 },
 "nbformat": 4,
 "nbformat_minor": 5
}
