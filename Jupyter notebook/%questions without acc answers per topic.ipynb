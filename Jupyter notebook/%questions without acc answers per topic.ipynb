{
 "cells": [
  {
   "cell_type": "code",
   "execution_count": 2,
   "id": "18687115",
   "metadata": {},
   "outputs": [],
   "source": [
    "import numpy as np\n",
    "import pandas as pd\n",
    "import string\n",
    "import re\n",
    "import pickle\n",
    "import tqdm\n",
    "import seaborn as sns\n",
    "\n",
    "\n",
    "import nltk \n",
    "from nltk.stem.wordnet import WordNetLemmatizer\n",
    "from nltk.stem import PorterStemmer\n",
    "\n",
    "from nltk.corpus import stopwords\n",
    "stop_words = stopwords.words('english')\n",
    "stop_words.extend(['from','like' 'subject', 're', 'edu', 'use', 'not', 'would', 'say', 'could', '_', 'be', 'know', 'good', 'go', 'get', 'do', 'done', 'try', 'many', 'some', 'nice', 'thank', 'think', 'see', 'rather', 'easy', 'easily', 'lot', 'lack', 'make', 'want', 'seem', 'run', 'need', 'even', 'right', 'line', 'even', 'also', 'may', 'take', 'come','py','gt','lt'])\n",
    "char_list = ['=', '+','-','*','<','>','/',')','(','[',']',':'] \n",
    "\n",
    "import gensim\n",
    "from gensim.utils import lemmatize, simple_preprocess\n",
    "from gensim.models import CoherenceModel\n",
    "from gensim import corpora\n",
    "import matplotlib.pyplot as plt\n",
    "\n",
    "from sklearn.manifold import TSNE\n",
    "from bokeh.plotting import figure, output_file, show\n",
    "from bokeh.models import Label\n",
    "from bokeh.io import output_notebook\n",
    "\n",
    "\n",
    "\n",
    "import spacy\n",
    "nlp = spacy.load('en_core_web_sm',disable=['parser', 'ner'])\n",
    "from spacy.lang.en import English\n",
    "parser = English()\n",
    "\n",
    "# from nltk.corpus import wordnet as wn\n",
    "\n",
    "from gensim.corpora import Dictionary\n",
    "from pprint import pprint\n",
    "\n",
    "import os \n",
    "mallet_path = 'C:/mallet-2.0.8/bin/mallet' # update this path\n",
    "\n",
    "import matplotlib.pyplot as plt\n",
    "from sklearn.feature_extraction.text import CountVectorizer\n",
    "%matplotlib inline\n",
    "\n",
    "df_dominant_topic_final = pd.read_csv (r'Topic_modeling_result_HDL.csv',parse_dates=['AcceptedAnswerdate','creationdate'])\n"
   ]
  },
  {
   "cell_type": "code",
   "execution_count": 3,
   "id": "2e102634",
   "metadata": {},
   "outputs": [
    {
     "data": {
      "text/plain": [
       "0"
      ]
     },
     "execution_count": 3,
     "metadata": {},
     "output_type": "execute_result"
    }
   ],
   "source": [
    "df_dominant_topic_final.ACCanswerBody.isna().sum()"
   ]
  },
  {
   "cell_type": "code",
   "execution_count": 4,
   "id": "6458ab46",
   "metadata": {},
   "outputs": [],
   "source": [
    "df_dominant_topic_final['IsAcceptedAnswer']=df_dominant_topic_final['ACCanswerBody'].apply(lambda x:False if x == ' ' else True )"
   ]
  },
  {
   "cell_type": "code",
   "execution_count": 5,
   "id": "3992b65c",
   "metadata": {},
   "outputs": [
    {
     "data": {
      "text/plain": [
       "True     0.531039\n",
       "False    0.468961\n",
       "Name: IsAcceptedAnswer, dtype: float64"
      ]
     },
     "execution_count": 5,
     "metadata": {},
     "output_type": "execute_result"
    }
   ],
   "source": [
    "df_dominant_topic_final.IsAcceptedAnswer.value_counts(normalize=True)                                                          "
   ]
  },
  {
   "cell_type": "code",
   "execution_count": 6,
   "id": "0e858bf2",
   "metadata": {},
   "outputs": [
    {
     "data": {
      "text/plain": [
       "<AxesSubplot:xlabel='Dominant_Topic', ylabel='percentage'>"
      ]
     },
     "execution_count": 6,
     "metadata": {},
     "output_type": "execute_result"
    },
    {
     "data": {
      "image/png": "[encoded data removed]",
      "text/plain": [
       "<Figure size 1080x576 with 1 Axes>"
      ]
     },
     "metadata": {
      "needs_background": "light"
     },
     "output_type": "display_data"
    }
   ],
   "source": [
    "accepted_answers_percentage = df_dominant_topic_final.groupby(['Dominant_Topic','IsAcceptedAnswer']).size().reset_index(name='count')\n",
    "# Change: groupby state_office and divide by sum\n",
    "tmp_df = accepted_answers_percentage.groupby('Dominant_Topic').agg({'count': 'sum'}).reset_index()\n",
    "tmp_df = pd.merge(accepted_answers_percentage , tmp_df , on='Dominant_Topic' ,how='inner')\n",
    "tmp_df['percentage'] = (tmp_df['count_x']/tmp_df['count_y'])*100\n",
    "accepted_answers_percentage = tmp_df[['Dominant_Topic','IsAcceptedAnswer','percentage']]\n",
    "not_accepted_answer = accepted_answers_percentage[accepted_answers_percentage['IsAcceptedAnswer']==False]\n",
    "not_accepted_answer.to_excel('Not accepted answer percentage per topic.xlsx',index=False)\n",
    "plt.figure(figsize=(15,8))\n",
    "sns.barplot(x = 'Dominant_Topic', y = 'percentage', data = not_accepted_answer,\n",
    "            palette = 'Blues', edgecolor = 'w')"
   ]
  }
 ],
 "metadata": {
  "kernelspec": {
   "display_name": "Python 3",
   "language": "python",
   "name": "python3"
  },
  "language_info": {
   "codemirror_mode": {
    "name": "ipython",
    "version": 3
   },
   "file_extension": ".py",
   "mimetype": "text/x-python",
   "name": "python",
   "nbconvert_exporter": "python",
   "pygments_lexer": "ipython3",
   "version": "3.8.8"
  }
 },
 "nbformat": 4,
 "nbformat_minor": 5
}
