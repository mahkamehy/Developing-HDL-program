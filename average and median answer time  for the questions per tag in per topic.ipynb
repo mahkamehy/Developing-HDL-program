{
 "cells": [
  {
   "cell_type": "code",
   "execution_count": 5,
   "id": "72987edc",
   "metadata": {},
   "outputs": [
    {
     "name": "stdout",
     "output_type": "stream",
     "text": [
      "1087\n",
      "50\n",
      "Topic 0 Average Answer Date:  0 days 03:19:01.500000\n"
     ]
    }
   ],
   "source": [
    "\n",
    "#the number of topic can be changed and have a results for all topics.\n",
    " \n",
    "#the name of tags can be changed \n",
    "# mean and median can be calculated\n",
    "\n",
    "import pandas as pd\n",
    "\n",
    "df0 = pd.read_excel (r'Topic_modeling_results_per_topic12.xlsx',sheet_name='Topic_0.0')\n",
    "df0.creationdate = pd.to_datetime(df0['creationdate'])\n",
    "df0.AcceptedAnswerdate = pd.to_datetime(df0['AcceptedAnswerdate'])\n",
    "\n",
    "df0['diff'] = df0['AcceptedAnswerdate'] - df0['creationdate']\n",
    "# df01 = df0[df0['tagnames'].str.contains('hdl')]\n",
    "# print(df01)\n",
    "df01 = (df0.assign(tagnames = df0['tagnames'].str.split(','))\n",
    "         .explode('tagnames')\n",
    "         .reset_index(drop=True))\n",
    "print(len(df01.index))\n",
    "value_list = ['hdl']\n",
    "df02 = df01[df01['tagnames'].isin(value_list)]\n",
    "# df02['diff'] = df02['AcceptedAnswerdate'] - df02['creationdate']\n",
    "print(len(df02.index))\n",
    "print('Topic 0 Average Answer Date: ', df02['diff'].mean())"
   ]
  },
  {
   "cell_type": "code",
   "execution_count": 6,
   "id": "7db2f30c",
   "metadata": {},
   "outputs": [
    {
     "name": "stdout",
     "output_type": "stream",
     "text": [
      "940\n",
      "39\n",
      "Topic 0 Average Answer Date:  21 days 11:39:42.857142857\n"
     ]
    }
   ],
   "source": [
    "import pandas as pd\n",
    "\n",
    "df0 = pd.read_excel (r'Topic_modeling_results_per_topic12.xlsx',sheet_name='Topic_1.0')\n",
    "df0.creationdate = pd.to_datetime(df0['creationdate'])\n",
    "df0.AcceptedAnswerdate = pd.to_datetime(df0['AcceptedAnswerdate'])\n",
    "\n",
    "df0['diff'] = df0['AcceptedAnswerdate'] - df0['creationdate']\n",
    "# df01 = df0[df0['tagnames'].str.contains('hdl')]\n",
    "# print(df01)\n",
    "df01 = (df0.assign(tagnames = df0['tagnames'].str.split(','))\n",
    "         .explode('tagnames')\n",
    "         .reset_index(drop=True))\n",
    "print(len(df01.index))\n",
    "value_list = ['hdl']\n",
    "df02 = df01[df01['tagnames'].isin(value_list)]\n",
    "# df02['diff'] = df02['AcceptedAnswerdate'] - df02['creationdate']\n",
    "print(len(df02.index))\n",
    "print('Topic 0 Average Answer Date: ', df02['diff'].mean())"
   ]
  },
  {
   "cell_type": "code",
   "execution_count": 7,
   "id": "0af86495",
   "metadata": {},
   "outputs": [
    {
     "name": "stdout",
     "output_type": "stream",
     "text": [
      "1820\n",
      "105\n",
      "Topic 0 Average Answer Date:  60 days 10:47:43.636363636\n"
     ]
    }
   ],
   "source": [
    "import pandas as pd\n",
    "\n",
    "df0 = pd.read_excel (r'Topic_modeling_results_per_topic12.xlsx',sheet_name='Topic_2.0')\n",
    "df0.creationdate = pd.to_datetime(df0['creationdate'])\n",
    "df0.AcceptedAnswerdate = pd.to_datetime(df0['AcceptedAnswerdate'])\n",
    "\n",
    "df0['diff'] = df0['AcceptedAnswerdate'] - df0['creationdate']\n",
    "# df01 = df0[df0['tagnames'].str.contains('hdl')]\n",
    "# print(df01)\n",
    "df01 = (df0.assign(tagnames = df0['tagnames'].str.split(','))\n",
    "         .explode('tagnames')\n",
    "         .reset_index(drop=True))\n",
    "print(len(df01.index))\n",
    "value_list = ['hdl']\n",
    "df02 = df01[df01['tagnames'].isin(value_list)]\n",
    "# df02['diff'] = df02['AcceptedAnswerdate'] - df02['creationdate']\n",
    "print(len(df02.index))\n",
    "print('Topic 0 Average Answer Date: ', df02['diff'].mean())"
   ]
  },
  {
   "cell_type": "code",
   "execution_count": 8,
   "id": "8d01cd6b",
   "metadata": {},
   "outputs": [
    {
     "name": "stdout",
     "output_type": "stream",
     "text": [
      "928\n",
      "49\n",
      "Topic 0 Average Answer Date:  7 days 02:46:40.588235294\n"
     ]
    }
   ],
   "source": [
    "import pandas as pd\n",
    "\n",
    "df0 = pd.read_excel (r'Topic_modeling_results_per_topic12.xlsx',sheet_name='Topic_3.0')\n",
    "df0.creationdate = pd.to_datetime(df0['creationdate'])\n",
    "df0.AcceptedAnswerdate = pd.to_datetime(df0['AcceptedAnswerdate'])\n",
    "\n",
    "df0['diff'] = df0['AcceptedAnswerdate'] - df0['creationdate']\n",
    "# df01 = df0[df0['tagnames'].str.contains('hdl')]\n",
    "# print(df01)\n",
    "df01 = (df0.assign(tagnames = df0['tagnames'].str.split(','))\n",
    "         .explode('tagnames')\n",
    "         .reset_index(drop=True))\n",
    "print(len(df01.index))\n",
    "value_list = ['hdl']\n",
    "df02 = df01[df01['tagnames'].isin(value_list)]\n",
    "# df02['diff'] = df02['AcceptedAnswerdate'] - df02['creationdate']\n",
    "print(len(df02.index))\n",
    "print('Topic 0 Average Answer Date: ', df02['diff'].mean())"
   ]
  },
  {
   "cell_type": "code",
   "execution_count": 9,
   "id": "5b9019ab",
   "metadata": {},
   "outputs": [
    {
     "name": "stdout",
     "output_type": "stream",
     "text": [
      "863\n",
      "48\n",
      "Topic 0 Average Answer Date:  0 days 16:35:38.709677419\n"
     ]
    }
   ],
   "source": [
    "import pandas as pd\n",
    "\n",
    "df0 = pd.read_excel (r'Topic_modeling_results_per_topic12.xlsx',sheet_name='Topic_4.0')\n",
    "df0.creationdate = pd.to_datetime(df0['creationdate'])\n",
    "df0.AcceptedAnswerdate = pd.to_datetime(df0['AcceptedAnswerdate'])\n",
    "\n",
    "df0['diff'] = df0['AcceptedAnswerdate'] - df0['creationdate']\n",
    "# df01 = df0[df0['tagnames'].str.contains('hdl')]\n",
    "# print(df01)\n",
    "df01 = (df0.assign(tagnames = df0['tagnames'].str.split(','))\n",
    "         .explode('tagnames')\n",
    "         .reset_index(drop=True))\n",
    "print(len(df01.index))\n",
    "value_list = ['hdl']\n",
    "df02 = df01[df01['tagnames'].isin(value_list)]\n",
    "# df02['diff'] = df02['AcceptedAnswerdate'] - df02['creationdate']\n",
    "print(len(df02.index))\n",
    "print('Topic 0 Average Answer Date: ', df02['diff'].mean())"
   ]
  },
  {
   "cell_type": "code",
   "execution_count": 10,
   "id": "e8a6814c",
   "metadata": {},
   "outputs": [
    {
     "name": "stdout",
     "output_type": "stream",
     "text": [
      "545\n",
      "27\n",
      "Topic 0 Average Answer Date:  0 days 05:59:00\n"
     ]
    }
   ],
   "source": [
    "import pandas as pd\n",
    "\n",
    "df0 = pd.read_excel (r'Topic_modeling_results_per_topic12.xlsx',sheet_name='Topic_5.0')\n",
    "df0.creationdate = pd.to_datetime(df0['creationdate'])\n",
    "df0.AcceptedAnswerdate = pd.to_datetime(df0['AcceptedAnswerdate'])\n",
    "\n",
    "df0['diff'] = df0['AcceptedAnswerdate'] - df0['creationdate']\n",
    "# df01 = df0[df0['tagnames'].str.contains('hdl')]\n",
    "# print(df01)\n",
    "df01 = (df0.assign(tagnames = df0['tagnames'].str.split(','))\n",
    "         .explode('tagnames')\n",
    "         .reset_index(drop=True))\n",
    "print(len(df01.index))\n",
    "value_list = ['hdl']\n",
    "df02 = df01[df01['tagnames'].isin(value_list)]\n",
    "# df02['diff'] = df02['AcceptedAnswerdate'] - df02['creationdate']\n",
    "print(len(df02.index))\n",
    "print('Topic 0 Average Answer Date: ', df02['diff'].mean())"
   ]
  },
  {
   "cell_type": "code",
   "execution_count": 11,
   "id": "92e304af",
   "metadata": {},
   "outputs": [
    {
     "name": "stdout",
     "output_type": "stream",
     "text": [
      "800\n",
      "44\n",
      "Topic 0 Average Answer Date:  0 days 12:33:49.090909090\n"
     ]
    }
   ],
   "source": [
    "import pandas as pd\n",
    "\n",
    "df0 = pd.read_excel (r'Topic_modeling_results_per_topic12.xlsx',sheet_name='Topic_6.0')\n",
    "df0.creationdate = pd.to_datetime(df0['creationdate'])\n",
    "df0.AcceptedAnswerdate = pd.to_datetime(df0['AcceptedAnswerdate'])\n",
    "\n",
    "df0['diff'] = df0['AcceptedAnswerdate'] - df0['creationdate']\n",
    "# df01 = df0[df0['tagnames'].str.contains('hdl')]\n",
    "# print(df01)\n",
    "df01 = (df0.assign(tagnames = df0['tagnames'].str.split(','))\n",
    "         .explode('tagnames')\n",
    "         .reset_index(drop=True))\n",
    "print(len(df01.index))\n",
    "value_list = ['hdl']\n",
    "df02 = df01[df01['tagnames'].isin(value_list)]\n",
    "# df02['diff'] = df02['AcceptedAnswerdate'] - df02['creationdate']\n",
    "print(len(df02.index))\n",
    "print('Topic 0 Average Answer Date: ', df02['diff'].mean())"
   ]
  },
  {
   "cell_type": "code",
   "execution_count": 12,
   "id": "3b12f813",
   "metadata": {},
   "outputs": [
    {
     "name": "stdout",
     "output_type": "stream",
     "text": [
      "466\n",
      "30\n",
      "Topic 0 Average Answer Date:  5 days 05:23:33.750000\n"
     ]
    }
   ],
   "source": [
    "import pandas as pd\n",
    "\n",
    "df0 = pd.read_excel (r'Topic_modeling_results_per_topic12.xlsx',sheet_name='Topic_7.0')\n",
    "df0.creationdate = pd.to_datetime(df0['creationdate'])\n",
    "df0.AcceptedAnswerdate = pd.to_datetime(df0['AcceptedAnswerdate'])\n",
    "\n",
    "df0['diff'] = df0['AcceptedAnswerdate'] - df0['creationdate']\n",
    "# df01 = df0[df0['tagnames'].str.contains('hdl')]\n",
    "# print(df01)\n",
    "df01 = (df0.assign(tagnames = df0['tagnames'].str.split(','))\n",
    "         .explode('tagnames')\n",
    "         .reset_index(drop=True))\n",
    "print(len(df01.index))\n",
    "value_list = ['hdl']\n",
    "df02 = df01[df01['tagnames'].isin(value_list)]\n",
    "# df02['diff'] = df02['AcceptedAnswerdate'] - df02['creationdate']\n",
    "print(len(df02.index))\n",
    "print('Topic 0 Average Answer Date: ', df02['diff'].mean())"
   ]
  },
  {
   "cell_type": "code",
   "execution_count": 13,
   "id": "c4bed9fe",
   "metadata": {},
   "outputs": [
    {
     "name": "stdout",
     "output_type": "stream",
     "text": [
      "309\n",
      "15\n",
      "Topic 0 Average Answer Date:  86 days 08:57:16.363636364\n"
     ]
    }
   ],
   "source": [
    "import pandas as pd\n",
    "\n",
    "df0 = pd.read_excel (r'Topic_modeling_results_per_topic12.xlsx',sheet_name='Topic_8.0')\n",
    "df0.creationdate = pd.to_datetime(df0['creationdate'])\n",
    "df0.AcceptedAnswerdate = pd.to_datetime(df0['AcceptedAnswerdate'])\n",
    "\n",
    "df0['diff'] = df0['AcceptedAnswerdate'] - df0['creationdate']\n",
    "# df01 = df0[df0['tagnames'].str.contains('hdl')]\n",
    "# print(df01)\n",
    "df01 = (df0.assign(tagnames = df0['tagnames'].str.split(','))\n",
    "         .explode('tagnames')\n",
    "         .reset_index(drop=True))\n",
    "print(len(df01.index))\n",
    "value_list = ['hdl']\n",
    "df02 = df01[df01['tagnames'].isin(value_list)]\n",
    "# df02['diff'] = df02['AcceptedAnswerdate'] - df02['creationdate']\n",
    "print(len(df02.index))\n",
    "print('Topic 0 Average Answer Date: ', df02['diff'].mean())"
   ]
  },
  {
   "cell_type": "code",
   "execution_count": 14,
   "id": "05635628",
   "metadata": {},
   "outputs": [
    {
     "name": "stdout",
     "output_type": "stream",
     "text": [
      "1262\n",
      "64\n",
      "Topic 0 Average Answer Date:  0 days 12:41:29.333333333\n"
     ]
    }
   ],
   "source": [
    "import pandas as pd\n",
    "\n",
    "df0 = pd.read_excel (r'Topic_modeling_results_per_topic12.xlsx',sheet_name='Topic_9.0')\n",
    "df0.creationdate = pd.to_datetime(df0['creationdate'])\n",
    "df0.AcceptedAnswerdate = pd.to_datetime(df0['AcceptedAnswerdate'])\n",
    "\n",
    "df0['diff'] = df0['AcceptedAnswerdate'] - df0['creationdate']\n",
    "# df01 = df0[df0['tagnames'].str.contains('hdl')]\n",
    "# print(df01)\n",
    "df01 = (df0.assign(tagnames = df0['tagnames'].str.split(','))\n",
    "         .explode('tagnames')\n",
    "         .reset_index(drop=True))\n",
    "print(len(df01.index))\n",
    "value_list = ['hdl']\n",
    "df02 = df01[df01['tagnames'].isin(value_list)]\n",
    "# df02['diff'] = df02['AcceptedAnswerdate'] - df02['creationdate']\n",
    "print(len(df02.index))\n",
    "print('Topic 0 Average Answer Date: ', df02['diff'].mean())"
   ]
  },
  {
   "cell_type": "code",
   "execution_count": 15,
   "id": "1b40fbf7",
   "metadata": {},
   "outputs": [
    {
     "name": "stdout",
     "output_type": "stream",
     "text": [
      "1444\n",
      "80\n",
      "Topic 0 Average Answer Date:  0 days 09:45:00\n"
     ]
    }
   ],
   "source": [
    "import pandas as pd\n",
    "\n",
    "df0 = pd.read_excel (r'Topic_modeling_results_per_topic12.xlsx',sheet_name='Topic_10.0')\n",
    "df0.creationdate = pd.to_datetime(df0['creationdate'])\n",
    "df0.AcceptedAnswerdate = pd.to_datetime(df0['AcceptedAnswerdate'])\n",
    "\n",
    "df0['diff'] = df0['AcceptedAnswerdate'] - df0['creationdate']\n",
    "# df01 = df0[df0['tagnames'].str.contains('hdl')]\n",
    "# print(df01)\n",
    "df01 = (df0.assign(tagnames = df0['tagnames'].str.split(','))\n",
    "         .explode('tagnames')\n",
    "         .reset_index(drop=True))\n",
    "print(len(df01.index))\n",
    "value_list = ['hdl']\n",
    "df02 = df01[df01['tagnames'].isin(value_list)]\n",
    "# df02['diff'] = df02['AcceptedAnswerdate'] - df02['creationdate']\n",
    "print(len(df02.index))\n",
    "print('Topic 0 Average Answer Date: ', df02['diff'].mean())"
   ]
  },
  {
   "cell_type": "code",
   "execution_count": 16,
   "id": "ec5e0db0",
   "metadata": {},
   "outputs": [
    {
     "name": "stdout",
     "output_type": "stream",
     "text": [
      "695\n",
      "22\n",
      "Topic 0 Average Answer Date:  17 days 16:53:24.705882353\n"
     ]
    }
   ],
   "source": [
    "import pandas as pd\n",
    "\n",
    "df0 = pd.read_excel (r'Topic_modeling_results_per_topic12.xlsx',sheet_name='Topic_11.0')\n",
    "df0.creationdate = pd.to_datetime(df0['creationdate'])\n",
    "df0.AcceptedAnswerdate = pd.to_datetime(df0['AcceptedAnswerdate'])\n",
    "\n",
    "df0['diff'] = df0['AcceptedAnswerdate'] - df0['creationdate']\n",
    "# df01 = df0[df0['tagnames'].str.contains('hdl')]\n",
    "# print(df01)\n",
    "df01 = (df0.assign(tagnames = df0['tagnames'].str.split(','))\n",
    "         .explode('tagnames')\n",
    "         .reset_index(drop=True))\n",
    "print(len(df01.index))\n",
    "value_list = ['hdl']\n",
    "df02 = df01[df01['tagnames'].isin(value_list)]\n",
    "# df02['diff'] = df02['AcceptedAnswerdate'] - df02['creationdate']\n",
    "print(len(df02.index))\n",
    "print('Topic 0 Average Answer Date: ', df02['diff'].mean())"
   ]
  },
  {
   "cell_type": "code",
   "execution_count": 17,
   "id": "b9d5d4b5",
   "metadata": {},
   "outputs": [
    {
     "name": "stdout",
     "output_type": "stream",
     "text": [
      "992\n",
      "41\n",
      "Topic 0 Average Answer Date:  6 days 04:18:40.909090909\n"
     ]
    }
   ],
   "source": [
    "import pandas as pd\n",
    "\n",
    "df0 = pd.read_excel (r'Topic_modeling_results_per_topic12.xlsx',sheet_name='Topic_12.0')\n",
    "df0.creationdate = pd.to_datetime(df0['creationdate'])\n",
    "df0.AcceptedAnswerdate = pd.to_datetime(df0['AcceptedAnswerdate'])\n",
    "\n",
    "df0['diff'] = df0['AcceptedAnswerdate'] - df0['creationdate']\n",
    "# df01 = df0[df0['tagnames'].str.contains('hdl')]\n",
    "# print(df01)\n",
    "df01 = (df0.assign(tagnames = df0['tagnames'].str.split(','))\n",
    "         .explode('tagnames')\n",
    "         .reset_index(drop=True))\n",
    "print(len(df01.index))\n",
    "value_list = ['hdl']\n",
    "df02 = df01[df01['tagnames'].isin(value_list)]\n",
    "# df02['diff'] = df02['AcceptedAnswerdate'] - df02['creationdate']\n",
    "print(len(df02.index))\n",
    "print('Topic 0 Average Answer Date: ', df02['diff'].mean())"
   ]
  },
  {
   "cell_type": "code",
   "execution_count": 18,
   "id": "9ea0c531",
   "metadata": {},
   "outputs": [
    {
     "name": "stdout",
     "output_type": "stream",
     "text": [
      "303\n",
      "17\n",
      "Topic 0 Average Answer Date:  16 days 07:23:45\n"
     ]
    }
   ],
   "source": [
    "import pandas as pd\n",
    "\n",
    "df0 = pd.read_excel (r'Topic_modeling_results_per_topic12.xlsx',sheet_name='Topic_13.0')\n",
    "df0.creationdate = pd.to_datetime(df0['creationdate'])\n",
    "df0.AcceptedAnswerdate = pd.to_datetime(df0['AcceptedAnswerdate'])\n",
    "\n",
    "df0['diff'] = df0['AcceptedAnswerdate'] - df0['creationdate']\n",
    "# df01 = df0[df0['tagnames'].str.contains('hdl')]\n",
    "# print(df01)\n",
    "df01 = (df0.assign(tagnames = df0['tagnames'].str.split(','))\n",
    "         .explode('tagnames')\n",
    "         .reset_index(drop=True))\n",
    "print(len(df01.index))\n",
    "value_list = ['hdl']\n",
    "df02 = df01[df01['tagnames'].isin(value_list)]\n",
    "# df02['diff'] = df02['AcceptedAnswerdate'] - df02['creationdate']\n",
    "print(len(df02.index))\n",
    "print('Topic 0 Average Answer Date: ', df02['diff'].mean())"
   ]
  },
  {
   "cell_type": "code",
   "execution_count": 19,
   "id": "030c9f7f",
   "metadata": {},
   "outputs": [
    {
     "name": "stdout",
     "output_type": "stream",
     "text": [
      "330\n",
      "15\n",
      "Topic 0 Average Answer Date:  3 days 08:20:17.142857142\n"
     ]
    }
   ],
   "source": [
    "import pandas as pd\n",
    "\n",
    "df0 = pd.read_excel (r'Topic_modeling_results_per_topic12.xlsx',sheet_name='Topic_14.0')\n",
    "df0.creationdate = pd.to_datetime(df0['creationdate'])\n",
    "df0.AcceptedAnswerdate = pd.to_datetime(df0['AcceptedAnswerdate'])\n",
    "\n",
    "df0['diff'] = df0['AcceptedAnswerdate'] - df0['creationdate']\n",
    "# df01 = df0[df0['tagnames'].str.contains('hdl')]\n",
    "# print(df01)\n",
    "df01 = (df0.assign(tagnames = df0['tagnames'].str.split(','))\n",
    "         .explode('tagnames')\n",
    "         .reset_index(drop=True))\n",
    "print(len(df01.index))\n",
    "value_list = ['hdl']\n",
    "df02 = df01[df01['tagnames'].isin(value_list)]\n",
    "# df02['diff'] = df02['AcceptedAnswerdate'] - df02['creationdate']\n",
    "print(len(df02.index))\n",
    "print('Topic 0 Average Answer Date: ', df02['diff'].mean())"
   ]
  },
  {
   "cell_type": "code",
   "execution_count": 20,
   "id": "f6009a5f",
   "metadata": {},
   "outputs": [
    {
     "name": "stdout",
     "output_type": "stream",
     "text": [
      "2248\n",
      "143\n",
      "Topic 0 Average Answer Date:  3 days 04:17:40.689655172\n"
     ]
    }
   ],
   "source": [
    "import pandas as pd\n",
    "\n",
    "df0 = pd.read_excel (r'Topic_modeling_results_per_topic12.xlsx',sheet_name='Topic_15.0')\n",
    "df0.creationdate = pd.to_datetime(df0['creationdate'])\n",
    "df0.AcceptedAnswerdate = pd.to_datetime(df0['AcceptedAnswerdate'])\n",
    "\n",
    "df0['diff'] = df0['AcceptedAnswerdate'] - df0['creationdate']\n",
    "# df01 = df0[df0['tagnames'].str.contains('hdl')]\n",
    "# print(df01)\n",
    "df01 = (df0.assign(tagnames = df0['tagnames'].str.split(','))\n",
    "         .explode('tagnames')\n",
    "         .reset_index(drop=True))\n",
    "print(len(df01.index))\n",
    "value_list = ['hdl']\n",
    "df02 = df01[df01['tagnames'].isin(value_list)]\n",
    "# df02['diff'] = df02['AcceptedAnswerdate'] - df02['creationdate']\n",
    "print(len(df02.index))\n",
    "print('Topic 0 Average Answer Date: ', df02['diff'].mean())"
   ]
  },
  {
   "cell_type": "code",
   "execution_count": 21,
   "id": "d619e233",
   "metadata": {},
   "outputs": [
    {
     "name": "stdout",
     "output_type": "stream",
     "text": [
      "1087\n",
      "469\n",
      "Topic 0 Average Answer Date:  1 days 10:12:35.776397515\n"
     ]
    }
   ],
   "source": [
    "import pandas as pd\n",
    "\n",
    "df0 = pd.read_excel (r'Topic_modeling_results_per_topic12.xlsx',sheet_name='Topic_0.0')\n",
    "df0.creationdate = pd.to_datetime(df0['creationdate'])\n",
    "df0.AcceptedAnswerdate = pd.to_datetime(df0['AcceptedAnswerdate'])\n",
    "\n",
    "df0['diff'] = df0['AcceptedAnswerdate'] - df0['creationdate']\n",
    "# df01 = df0[df0['tagnames'].str.contains('hdl')]\n",
    "# print(df01)\n",
    "df01 = (df0.assign(tagnames = df0['tagnames'].str.split(','))\n",
    "         .explode('tagnames')\n",
    "         .reset_index(drop=True))\n",
    "print(len(df01.index))\n",
    "value_list = ['vhdl']\n",
    "df02 = df01[df01['tagnames'].isin(value_list)]\n",
    "# df02['diff'] = df02['AcceptedAnswerdate'] - df02['creationdate']\n",
    "print(len(df02.index))\n",
    "print('Topic 0 Average Answer Date: ', df02['diff'].mean())"
   ]
  },
  {
   "cell_type": "code",
   "execution_count": 22,
   "id": "6040602e",
   "metadata": {},
   "outputs": [
    {
     "name": "stdout",
     "output_type": "stream",
     "text": [
      "940\n",
      "353\n",
      "Topic 0 Average Answer Date:  17 days 21:54:32.156862745\n"
     ]
    }
   ],
   "source": [
    "import pandas as pd\n",
    "\n",
    "df0 = pd.read_excel (r'Topic_modeling_results_per_topic12.xlsx',sheet_name='Topic_1.0')\n",
    "df0.creationdate = pd.to_datetime(df0['creationdate'])\n",
    "df0.AcceptedAnswerdate = pd.to_datetime(df0['AcceptedAnswerdate'])\n",
    "\n",
    "df0['diff'] = df0['AcceptedAnswerdate'] - df0['creationdate']\n",
    "# df01 = df0[df0['tagnames'].str.contains('hdl')]\n",
    "# print(df01)\n",
    "df01 = (df0.assign(tagnames = df0['tagnames'].str.split(','))\n",
    "         .explode('tagnames')\n",
    "         .reset_index(drop=True))\n",
    "print(len(df01.index))\n",
    "value_list = ['vhdl']\n",
    "df02 = df01[df01['tagnames'].isin(value_list)]\n",
    "# df02['diff'] = df02['AcceptedAnswerdate'] - df02['creationdate']\n",
    "print(len(df02.index))\n",
    "print('Topic 0 Average Answer Date: ', df02['diff'].mean())"
   ]
  },
  {
   "cell_type": "code",
   "execution_count": 23,
   "id": "488fb096",
   "metadata": {},
   "outputs": [
    {
     "name": "stdout",
     "output_type": "stream",
     "text": [
      "1820\n",
      "585\n",
      "Topic 0 Average Answer Date:  12 days 04:55:41.560975609\n"
     ]
    }
   ],
   "source": [
    "import pandas as pd\n",
    "\n",
    "df0 = pd.read_excel (r'Topic_modeling_results_per_topic12.xlsx',sheet_name='Topic_2.0')\n",
    "df0.creationdate = pd.to_datetime(df0['creationdate'])\n",
    "df0.AcceptedAnswerdate = pd.to_datetime(df0['AcceptedAnswerdate'])\n",
    "\n",
    "df0['diff'] = df0['AcceptedAnswerdate'] - df0['creationdate']\n",
    "# df01 = df0[df0['tagnames'].str.contains('hdl')]\n",
    "# print(df01)\n",
    "df01 = (df0.assign(tagnames = df0['tagnames'].str.split(','))\n",
    "         .explode('tagnames')\n",
    "         .reset_index(drop=True))\n",
    "print(len(df01.index))\n",
    "value_list = ['vhdl']\n",
    "df02 = df01[df01['tagnames'].isin(value_list)]\n",
    "# df02['diff'] = df02['AcceptedAnswerdate'] - df02['creationdate']\n",
    "print(len(df02.index))\n",
    "print('Topic 0 Average Answer Date: ', df02['diff'].mean())"
   ]
  },
  {
   "cell_type": "code",
   "execution_count": 24,
   "id": "237adba0",
   "metadata": {},
   "outputs": [
    {
     "name": "stdout",
     "output_type": "stream",
     "text": [
      "928\n",
      "376\n",
      "Topic 0 Average Answer Date:  0 days 12:20:28.214285714\n"
     ]
    }
   ],
   "source": [
    "import pandas as pd\n",
    "\n",
    "df0 = pd.read_excel (r'Topic_modeling_results_per_topic12.xlsx',sheet_name='Topic_3.0')\n",
    "df0.creationdate = pd.to_datetime(df0['creationdate'])\n",
    "df0.AcceptedAnswerdate = pd.to_datetime(df0['AcceptedAnswerdate'])\n",
    "\n",
    "df0['diff'] = df0['AcceptedAnswerdate'] - df0['creationdate']\n",
    "# df01 = df0[df0['tagnames'].str.contains('hdl')]\n",
    "# print(df01)\n",
    "df01 = (df0.assign(tagnames = df0['tagnames'].str.split(','))\n",
    "         .explode('tagnames')\n",
    "         .reset_index(drop=True))\n",
    "print(len(df01.index))\n",
    "value_list = ['vhdl']\n",
    "df02 = df01[df01['tagnames'].isin(value_list)]\n",
    "# df02['diff'] = df02['AcceptedAnswerdate'] - df02['creationdate']\n",
    "print(len(df02.index))\n",
    "print('Topic 0 Average Answer Date: ', df02['diff'].mean())"
   ]
  },
  {
   "cell_type": "code",
   "execution_count": 25,
   "id": "908a1f17",
   "metadata": {},
   "outputs": [
    {
     "name": "stdout",
     "output_type": "stream",
     "text": [
      "863\n",
      "199\n",
      "Topic 0 Average Answer Date:  12 days 00:45:29.361702127\n"
     ]
    }
   ],
   "source": [
    "import pandas as pd\n",
    "\n",
    "df0 = pd.read_excel (r'Topic_modeling_results_per_topic12.xlsx',sheet_name='Topic_4.0')\n",
    "df0.creationdate = pd.to_datetime(df0['creationdate'])\n",
    "df0.AcceptedAnswerdate = pd.to_datetime(df0['AcceptedAnswerdate'])\n",
    "\n",
    "df0['diff'] = df0['AcceptedAnswerdate'] - df0['creationdate']\n",
    "# df01 = df0[df0['tagnames'].str.contains('hdl')]\n",
    "# print(df01)\n",
    "df01 = (df0.assign(tagnames = df0['tagnames'].str.split(','))\n",
    "         .explode('tagnames')\n",
    "         .reset_index(drop=True))\n",
    "print(len(df01.index))\n",
    "value_list = ['vhdl']\n",
    "df02 = df01[df01['tagnames'].isin(value_list)]\n",
    "# df02['diff'] = df02['AcceptedAnswerdate'] - df02['creationdate']\n",
    "print(len(df02.index))\n",
    "print('Topic 0 Average Answer Date: ', df02['diff'].mean())"
   ]
  },
  {
   "cell_type": "code",
   "execution_count": 26,
   "id": "59a10711",
   "metadata": {},
   "outputs": [
    {
     "name": "stdout",
     "output_type": "stream",
     "text": [
      "545\n",
      "215\n",
      "Topic 0 Average Answer Date:  4 days 20:12:00\n"
     ]
    }
   ],
   "source": [
    "import pandas as pd\n",
    "\n",
    "df0 = pd.read_excel (r'Topic_modeling_results_per_topic12.xlsx',sheet_name='Topic_5.0')\n",
    "df0.creationdate = pd.to_datetime(df0['creationdate'])\n",
    "df0.AcceptedAnswerdate = pd.to_datetime(df0['AcceptedAnswerdate'])\n",
    "\n",
    "df0['diff'] = df0['AcceptedAnswerdate'] - df0['creationdate']\n",
    "# df01 = df0[df0['tagnames'].str.contains('hdl')]\n",
    "# print(df01)\n",
    "df01 = (df0.assign(tagnames = df0['tagnames'].str.split(','))\n",
    "         .explode('tagnames')\n",
    "         .reset_index(drop=True))\n",
    "print(len(df01.index))\n",
    "value_list = ['vhdl']\n",
    "df02 = df01[df01['tagnames'].isin(value_list)]\n",
    "# df02['diff'] = df02['AcceptedAnswerdate'] - df02['creationdate']\n",
    "print(len(df02.index))\n",
    "print('Topic 0 Average Answer Date: ', df02['diff'].mean())"
   ]
  },
  {
   "cell_type": "code",
   "execution_count": 27,
   "id": "f9822a52",
   "metadata": {},
   "outputs": [
    {
     "name": "stdout",
     "output_type": "stream",
     "text": [
      "800\n",
      "419\n",
      "Topic 0 Average Answer Date:  1 days 11:25:30.647482014\n"
     ]
    }
   ],
   "source": [
    "import pandas as pd\n",
    "\n",
    "df0 = pd.read_excel (r'Topic_modeling_results_per_topic12.xlsx',sheet_name='Topic_6.0')\n",
    "df0.creationdate = pd.to_datetime(df0['creationdate'])\n",
    "df0.AcceptedAnswerdate = pd.to_datetime(df0['AcceptedAnswerdate'])\n",
    "\n",
    "df0['diff'] = df0['AcceptedAnswerdate'] - df0['creationdate']\n",
    "# df01 = df0[df0['tagnames'].str.contains('hdl')]\n",
    "# print(df01)\n",
    "df01 = (df0.assign(tagnames = df0['tagnames'].str.split(','))\n",
    "         .explode('tagnames')\n",
    "         .reset_index(drop=True))\n",
    "print(len(df01.index))\n",
    "value_list = ['vhdl']\n",
    "df02 = df01[df01['tagnames'].isin(value_list)]\n",
    "# df02['diff'] = df02['AcceptedAnswerdate'] - df02['creationdate']\n",
    "print(len(df02.index))\n",
    "print('Topic 0 Average Answer Date: ', df02['diff'].mean())"
   ]
  },
  {
   "cell_type": "code",
   "execution_count": 28,
   "id": "70bac182",
   "metadata": {},
   "outputs": [
    {
     "name": "stdout",
     "output_type": "stream",
     "text": [
      "466\n",
      "166\n",
      "Topic 0 Average Answer Date:  5 days 17:39:10.140845070\n"
     ]
    }
   ],
   "source": [
    "import pandas as pd\n",
    "\n",
    "df0 = pd.read_excel (r'Topic_modeling_results_per_topic12.xlsx',sheet_name='Topic_7.0')\n",
    "df0.creationdate = pd.to_datetime(df0['creationdate'])\n",
    "df0.AcceptedAnswerdate = pd.to_datetime(df0['AcceptedAnswerdate'])\n",
    "\n",
    "df0['diff'] = df0['AcceptedAnswerdate'] - df0['creationdate']\n",
    "# df01 = df0[df0['tagnames'].str.contains('hdl')]\n",
    "# print(df01)\n",
    "df01 = (df0.assign(tagnames = df0['tagnames'].str.split(','))\n",
    "         .explode('tagnames')\n",
    "         .reset_index(drop=True))\n",
    "print(len(df01.index))\n",
    "value_list = ['vhdl']\n",
    "df02 = df01[df01['tagnames'].isin(value_list)]\n",
    "# df02['diff'] = df02['AcceptedAnswerdate'] - df02['creationdate']\n",
    "print(len(df02.index))\n",
    "print('Topic 0 Average Answer Date: ', df02['diff'].mean())"
   ]
  },
  {
   "cell_type": "code",
   "execution_count": 29,
   "id": "618aa2b9",
   "metadata": {},
   "outputs": [
    {
     "name": "stdout",
     "output_type": "stream",
     "text": [
      "309\n",
      "33\n",
      "Topic 0 Average Answer Date:  0 days 18:29:32\n"
     ]
    }
   ],
   "source": [
    "import pandas as pd\n",
    "\n",
    "df0 = pd.read_excel (r'Topic_modeling_results_per_topic12.xlsx',sheet_name='Topic_8.0')\n",
    "df0.creationdate = pd.to_datetime(df0['creationdate'])\n",
    "df0.AcceptedAnswerdate = pd.to_datetime(df0['AcceptedAnswerdate'])\n",
    "\n",
    "df0['diff'] = df0['AcceptedAnswerdate'] - df0['creationdate']\n",
    "# df01 = df0[df0['tagnames'].str.contains('hdl')]\n",
    "# print(df01)\n",
    "df01 = (df0.assign(tagnames = df0['tagnames'].str.split(','))\n",
    "         .explode('tagnames')\n",
    "         .reset_index(drop=True))\n",
    "print(len(df01.index))\n",
    "value_list = ['vhdl']\n",
    "df02 = df01[df01['tagnames'].isin(value_list)]\n",
    "# df02['diff'] = df02['AcceptedAnswerdate'] - df02['creationdate']\n",
    "print(len(df02.index))\n",
    "print('Topic 0 Average Answer Date: ', df02['diff'].mean())"
   ]
  },
  {
   "cell_type": "code",
   "execution_count": 30,
   "id": "20991dd9",
   "metadata": {},
   "outputs": [
    {
     "name": "stdout",
     "output_type": "stream",
     "text": [
      "1262\n",
      "348\n",
      "Topic 0 Average Answer Date:  4 days 18:05:08.704663212\n"
     ]
    }
   ],
   "source": [
    "import pandas as pd\n",
    "\n",
    "df0 = pd.read_excel (r'Topic_modeling_results_per_topic12.xlsx',sheet_name='Topic_9.0')\n",
    "df0.creationdate = pd.to_datetime(df0['creationdate'])\n",
    "df0.AcceptedAnswerdate = pd.to_datetime(df0['AcceptedAnswerdate'])\n",
    "\n",
    "df0['diff'] = df0['AcceptedAnswerdate'] - df0['creationdate']\n",
    "# df01 = df0[df0['tagnames'].str.contains('hdl')]\n",
    "# print(df01)\n",
    "df01 = (df0.assign(tagnames = df0['tagnames'].str.split(','))\n",
    "         .explode('tagnames')\n",
    "         .reset_index(drop=True))\n",
    "print(len(df01.index))\n",
    "value_list = ['vhdl']\n",
    "df02 = df01[df01['tagnames'].isin(value_list)]\n",
    "# df02['diff'] = df02['AcceptedAnswerdate'] - df02['creationdate']\n",
    "print(len(df02.index))\n",
    "print('Topic 0 Average Answer Date: ', df02['diff'].mean())"
   ]
  },
  {
   "cell_type": "code",
   "execution_count": 31,
   "id": "5212c134",
   "metadata": {},
   "outputs": [
    {
     "name": "stdout",
     "output_type": "stream",
     "text": [
      "1444\n",
      "609\n",
      "Topic 0 Average Answer Date:  3 days 17:36:49.266055045\n"
     ]
    }
   ],
   "source": [
    "import pandas as pd\n",
    "\n",
    "df0 = pd.read_excel (r'Topic_modeling_results_per_topic12.xlsx',sheet_name='Topic_10.0')\n",
    "df0.creationdate = pd.to_datetime(df0['creationdate'])\n",
    "df0.AcceptedAnswerdate = pd.to_datetime(df0['AcceptedAnswerdate'])\n",
    "\n",
    "df0['diff'] = df0['AcceptedAnswerdate'] - df0['creationdate']\n",
    "# df01 = df0[df0['tagnames'].str.contains('hdl')]\n",
    "# print(df01)\n",
    "df01 = (df0.assign(tagnames = df0['tagnames'].str.split(','))\n",
    "         .explode('tagnames')\n",
    "         .reset_index(drop=True))\n",
    "print(len(df01.index))\n",
    "value_list = ['vhdl']\n",
    "df02 = df01[df01['tagnames'].isin(value_list)]\n",
    "# df02['diff'] = df02['AcceptedAnswerdate'] - df02['creationdate']\n",
    "print(len(df02.index))\n",
    "print('Topic 0 Average Answer Date: ', df02['diff'].mean())"
   ]
  },
  {
   "cell_type": "code",
   "execution_count": 32,
   "id": "7ccdaed0",
   "metadata": {},
   "outputs": [
    {
     "name": "stdout",
     "output_type": "stream",
     "text": [
      "695\n",
      "478\n",
      "Topic 0 Average Answer Date:  4 days 08:23:40.063291139\n"
     ]
    }
   ],
   "source": [
    "import pandas as pd\n",
    "\n",
    "df0 = pd.read_excel (r'Topic_modeling_results_per_topic12.xlsx',sheet_name='Topic_11.0')\n",
    "df0.creationdate = pd.to_datetime(df0['creationdate'])\n",
    "df0.AcceptedAnswerdate = pd.to_datetime(df0['AcceptedAnswerdate'])\n",
    "\n",
    "df0['diff'] = df0['AcceptedAnswerdate'] - df0['creationdate']\n",
    "# df01 = df0[df0['tagnames'].str.contains('hdl')]\n",
    "# print(df01)\n",
    "df01 = (df0.assign(tagnames = df0['tagnames'].str.split(','))\n",
    "         .explode('tagnames')\n",
    "         .reset_index(drop=True))\n",
    "print(len(df01.index))\n",
    "value_list = ['vhdl']\n",
    "df02 = df01[df01['tagnames'].isin(value_list)]\n",
    "# df02['diff'] = df02['AcceptedAnswerdate'] - df02['creationdate']\n",
    "print(len(df02.index))\n",
    "print('Topic 0 Average Answer Date: ', df02['diff'].mean())"
   ]
  },
  {
   "cell_type": "code",
   "execution_count": 33,
   "id": "8ff65a75",
   "metadata": {},
   "outputs": [
    {
     "name": "stdout",
     "output_type": "stream",
     "text": [
      "992\n",
      "85\n",
      "Topic 0 Average Answer Date:  0 days 04:21:05\n"
     ]
    }
   ],
   "source": [
    "import pandas as pd\n",
    "\n",
    "df0 = pd.read_excel (r'Topic_modeling_results_per_topic12.xlsx',sheet_name='Topic_12.0')\n",
    "df0.creationdate = pd.to_datetime(df0['creationdate'])\n",
    "df0.AcceptedAnswerdate = pd.to_datetime(df0['AcceptedAnswerdate'])\n",
    "\n",
    "df0['diff'] = df0['AcceptedAnswerdate'] - df0['creationdate']\n",
    "# df01 = df0[df0['tagnames'].str.contains('hdl')]\n",
    "# print(df01)\n",
    "df01 = (df0.assign(tagnames = df0['tagnames'].str.split(','))\n",
    "         .explode('tagnames')\n",
    "         .reset_index(drop=True))\n",
    "print(len(df01.index))\n",
    "value_list = ['vhdl']\n",
    "df02 = df01[df01['tagnames'].isin(value_list)]\n",
    "# df02['diff'] = df02['AcceptedAnswerdate'] - df02['creationdate']\n",
    "print(len(df02.index))\n",
    "print('Topic 0 Average Answer Date: ', df02['diff'].mean())"
   ]
  },
  {
   "cell_type": "code",
   "execution_count": 34,
   "id": "c1268a72",
   "metadata": {},
   "outputs": [
    {
     "name": "stdout",
     "output_type": "stream",
     "text": [
      "303\n",
      "115\n",
      "Topic 0 Average Answer Date:  2 days 04:56:19.148936170\n"
     ]
    }
   ],
   "source": [
    "import pandas as pd\n",
    "\n",
    "df0 = pd.read_excel (r'Topic_modeling_results_per_topic12.xlsx',sheet_name='Topic_13.0')\n",
    "df0.creationdate = pd.to_datetime(df0['creationdate'])\n",
    "df0.AcceptedAnswerdate = pd.to_datetime(df0['AcceptedAnswerdate'])\n",
    "\n",
    "df0['diff'] = df0['AcceptedAnswerdate'] - df0['creationdate']\n",
    "# df01 = df0[df0['tagnames'].str.contains('hdl')]\n",
    "# print(df01)\n",
    "df01 = (df0.assign(tagnames = df0['tagnames'].str.split(','))\n",
    "         .explode('tagnames')\n",
    "         .reset_index(drop=True))\n",
    "print(len(df01.index))\n",
    "value_list = ['vhdl']\n",
    "df02 = df01[df01['tagnames'].isin(value_list)]\n",
    "# df02['diff'] = df02['AcceptedAnswerdate'] - df02['creationdate']\n",
    "print(len(df02.index))\n",
    "print('Topic 0 Average Answer Date: ', df02['diff'].mean())"
   ]
  },
  {
   "cell_type": "code",
   "execution_count": 35,
   "id": "74deccff",
   "metadata": {},
   "outputs": [
    {
     "name": "stdout",
     "output_type": "stream",
     "text": [
      "330\n",
      "127\n",
      "Topic 0 Average Answer Date:  27 days 13:22:30\n"
     ]
    }
   ],
   "source": [
    "import pandas as pd\n",
    "\n",
    "df0 = pd.read_excel (r'Topic_modeling_results_per_topic12.xlsx',sheet_name='Topic_14.0')\n",
    "df0.creationdate = pd.to_datetime(df0['creationdate'])\n",
    "df0.AcceptedAnswerdate = pd.to_datetime(df0['AcceptedAnswerdate'])\n",
    "\n",
    "df0['diff'] = df0['AcceptedAnswerdate'] - df0['creationdate']\n",
    "# df01 = df0[df0['tagnames'].str.contains('hdl')]\n",
    "# print(df01)\n",
    "df01 = (df0.assign(tagnames = df0['tagnames'].str.split(','))\n",
    "         .explode('tagnames')\n",
    "         .reset_index(drop=True))\n",
    "print(len(df01.index))\n",
    "value_list = ['vhdl']\n",
    "df02 = df01[df01['tagnames'].isin(value_list)]\n",
    "# df02['diff'] = df02['AcceptedAnswerdate'] - df02['creationdate']\n",
    "print(len(df02.index))\n",
    "print('Topic 0 Average Answer Date: ', df02['diff'].mean())"
   ]
  },
  {
   "cell_type": "code",
   "execution_count": 36,
   "id": "24df6468",
   "metadata": {},
   "outputs": [
    {
     "name": "stdout",
     "output_type": "stream",
     "text": [
      "2248\n",
      "862\n",
      "Topic 0 Average Answer Date:  10 days 05:02:35.116279069\n"
     ]
    }
   ],
   "source": [
    "import pandas as pd\n",
    "\n",
    "df0 = pd.read_excel (r'Topic_modeling_results_per_topic12.xlsx',sheet_name='Topic_15.0')\n",
    "df0.creationdate = pd.to_datetime(df0['creationdate'])\n",
    "df0.AcceptedAnswerdate = pd.to_datetime(df0['AcceptedAnswerdate'])\n",
    "\n",
    "df0['diff'] = df0['AcceptedAnswerdate'] - df0['creationdate']\n",
    "# df01 = df0[df0['tagnames'].str.contains('hdl')]\n",
    "# print(df01)\n",
    "df01 = (df0.assign(tagnames = df0['tagnames'].str.split(','))\n",
    "         .explode('tagnames')\n",
    "         .reset_index(drop=True))\n",
    "print(len(df01.index))\n",
    "value_list = ['vhdl']\n",
    "df02 = df01[df01['tagnames'].isin(value_list)]\n",
    "# df02['diff'] = df02['AcceptedAnswerdate'] - df02['creationdate']\n",
    "print(len(df02.index))\n",
    "print('Topic 0 Average Answer Date: ', df02['diff'].mean())"
   ]
  },
  {
   "cell_type": "code",
   "execution_count": 37,
   "id": "b28b644a",
   "metadata": {},
   "outputs": [
    {
     "name": "stdout",
     "output_type": "stream",
     "text": [
      "1087\n",
      "348\n",
      "Topic 0 Average Answer Date:  0 days 07:31:43.548387096\n"
     ]
    }
   ],
   "source": [
    "import pandas as pd\n",
    "\n",
    "df0 = pd.read_excel (r'Topic_modeling_results_per_topic12.xlsx',sheet_name='Topic_0.0')\n",
    "df0.creationdate = pd.to_datetime(df0['creationdate'])\n",
    "df0.AcceptedAnswerdate = pd.to_datetime(df0['AcceptedAnswerdate'])\n",
    "\n",
    "df0['diff'] = df0['AcceptedAnswerdate'] - df0['creationdate']\n",
    "# df01 = df0[df0['tagnames'].str.contains('hdl')]\n",
    "# print(df01)\n",
    "df01 = (df0.assign(tagnames = df0['tagnames'].str.split(','))\n",
    "         .explode('tagnames')\n",
    "         .reset_index(drop=True))\n",
    "print(len(df01.index))\n",
    "# print(df01)\n",
    "value_list = ['verilog']\n",
    "df02 = df01[df01['tagnames'].isin(value_list)]\n",
    "# df02['diff'] = df02['AcceptedAnswerdate'] - df02['creationdate']\n",
    "print(len(df02.index))\n",
    "print('Topic 0 Average Answer Date: ', df02['diff'].mean())"
   ]
  },
  {
   "cell_type": "code",
   "execution_count": 38,
   "id": "60f52a26",
   "metadata": {},
   "outputs": [
    {
     "name": "stdout",
     "output_type": "stream",
     "text": [
      "940\n",
      "289\n",
      "Topic 0 Average Answer Date:  5 days 14:19:42.038216560\n"
     ]
    }
   ],
   "source": [
    "import pandas as pd\n",
    "\n",
    "df0 = pd.read_excel (r'Topic_modeling_results_per_topic12.xlsx',sheet_name='Topic_1.0')\n",
    "df0.creationdate = pd.to_datetime(df0['creationdate'])\n",
    "df0.AcceptedAnswerdate = pd.to_datetime(df0['AcceptedAnswerdate'])\n",
    "\n",
    "df0['diff'] = df0['AcceptedAnswerdate'] - df0['creationdate']\n",
    "# df01 = df0[df0['tagnames'].str.contains('hdl')]\n",
    "# print(df01)\n",
    "df01 = (df0.assign(tagnames = df0['tagnames'].str.split(','))\n",
    "         .explode('tagnames')\n",
    "         .reset_index(drop=True))\n",
    "print(len(df01.index))\n",
    "# print(df01)\n",
    "value_list = ['verilog']\n",
    "df02 = df01[df01['tagnames'].isin(value_list)]\n",
    "# df02['diff'] = df02['AcceptedAnswerdate'] - df02['creationdate']\n",
    "print(len(df02.index))\n",
    "print('Topic 0 Average Answer Date: ', df02['diff'].mean())"
   ]
  },
  {
   "cell_type": "code",
   "execution_count": 39,
   "id": "cce7e351",
   "metadata": {},
   "outputs": [
    {
     "name": "stdout",
     "output_type": "stream",
     "text": [
      "1820\n",
      "713\n",
      "Topic 0 Average Answer Date:  7 days 19:36:43.136094674\n"
     ]
    }
   ],
   "source": [
    "import pandas as pd\n",
    "\n",
    "df0 = pd.read_excel (r'Topic_modeling_results_per_topic12.xlsx',sheet_name='Topic_2.0')\n",
    "df0.creationdate = pd.to_datetime(df0['creationdate'])\n",
    "df0.AcceptedAnswerdate = pd.to_datetime(df0['AcceptedAnswerdate'])\n",
    "\n",
    "df0['diff'] = df0['AcceptedAnswerdate'] - df0['creationdate']\n",
    "# df01 = df0[df0['tagnames'].str.contains('hdl')]\n",
    "# print(df01)\n",
    "df01 = (df0.assign(tagnames = df0['tagnames'].str.split(','))\n",
    "         .explode('tagnames')\n",
    "         .reset_index(drop=True))\n",
    "print(len(df01.index))\n",
    "# print(df01)\n",
    "value_list = ['verilog']\n",
    "df02 = df01[df01['tagnames'].isin(value_list)]\n",
    "# df02['diff'] = df02['AcceptedAnswerdate'] - df02['creationdate']\n",
    "print(len(df02.index))\n",
    "print('Topic 0 Average Answer Date: ', df02['diff'].mean())"
   ]
  },
  {
   "cell_type": "code",
   "execution_count": 40,
   "id": "9164cd7f",
   "metadata": {},
   "outputs": [
    {
     "name": "stdout",
     "output_type": "stream",
     "text": [
      "928\n",
      "387\n",
      "Topic 0 Average Answer Date:  5 days 14:23:37.729257641\n"
     ]
    }
   ],
   "source": [
    "import pandas as pd\n",
    "\n",
    "df0 = pd.read_excel (r'Topic_modeling_results_per_topic12.xlsx',sheet_name='Topic_3.0')\n",
    "df0.creationdate = pd.to_datetime(df0['creationdate'])\n",
    "df0.AcceptedAnswerdate = pd.to_datetime(df0['AcceptedAnswerdate'])\n",
    "\n",
    "df0['diff'] = df0['AcceptedAnswerdate'] - df0['creationdate']\n",
    "# df01 = df0[df0['tagnames'].str.contains('hdl')]\n",
    "# print(df01)\n",
    "df01 = (df0.assign(tagnames = df0['tagnames'].str.split(','))\n",
    "         .explode('tagnames')\n",
    "         .reset_index(drop=True))\n",
    "print(len(df01.index))\n",
    "# print(df01)\n",
    "value_list = ['verilog']\n",
    "df02 = df01[df01['tagnames'].isin(value_list)]\n",
    "# df02['diff'] = df02['AcceptedAnswerdate'] - df02['creationdate']\n",
    "print(len(df02.index))\n",
    "print('Topic 0 Average Answer Date: ', df02['diff'].mean())"
   ]
  },
  {
   "cell_type": "code",
   "execution_count": 41,
   "id": "e6fbed0a",
   "metadata": {},
   "outputs": [
    {
     "name": "stdout",
     "output_type": "stream",
     "text": [
      "863\n",
      "425\n",
      "Topic 0 Average Answer Date:  1 days 08:06:15.826771653\n"
     ]
    }
   ],
   "source": [
    "import pandas as pd\n",
    "\n",
    "df0 = pd.read_excel (r'Topic_modeling_results_per_topic12.xlsx',sheet_name='Topic_4.0')\n",
    "df0.creationdate = pd.to_datetime(df0['creationdate'])\n",
    "df0.AcceptedAnswerdate = pd.to_datetime(df0['AcceptedAnswerdate'])\n",
    "\n",
    "df0['diff'] = df0['AcceptedAnswerdate'] - df0['creationdate']\n",
    "# df01 = df0[df0['tagnames'].str.contains('hdl')]\n",
    "# print(df01)\n",
    "df01 = (df0.assign(tagnames = df0['tagnames'].str.split(','))\n",
    "         .explode('tagnames')\n",
    "         .reset_index(drop=True))\n",
    "print(len(df01.index))\n",
    "# print(df01)\n",
    "value_list = ['verilog']\n",
    "df02 = df01[df01['tagnames'].isin(value_list)]\n",
    "# df02['diff'] = df02['AcceptedAnswerdate'] - df02['creationdate']\n",
    "print(len(df02.index))\n",
    "print('Topic 0 Average Answer Date: ', df02['diff'].mean())"
   ]
  },
  {
   "cell_type": "code",
   "execution_count": 42,
   "id": "0b6284ac",
   "metadata": {},
   "outputs": [
    {
     "name": "stdout",
     "output_type": "stream",
     "text": [
      "545\n",
      "205\n",
      "Topic 0 Average Answer Date:  5 days 15:23:03.853211009\n"
     ]
    }
   ],
   "source": [
    "import pandas as pd\n",
    "\n",
    "df0 = pd.read_excel (r'Topic_modeling_results_per_topic12.xlsx',sheet_name='Topic_5.0')\n",
    "df0.creationdate = pd.to_datetime(df0['creationdate'])\n",
    "df0.AcceptedAnswerdate = pd.to_datetime(df0['AcceptedAnswerdate'])\n",
    "\n",
    "df0['diff'] = df0['AcceptedAnswerdate'] - df0['creationdate']\n",
    "# df01 = df0[df0['tagnames'].str.contains('hdl')]\n",
    "# print(df01)\n",
    "df01 = (df0.assign(tagnames = df0['tagnames'].str.split(','))\n",
    "         .explode('tagnames')\n",
    "         .reset_index(drop=True))\n",
    "print(len(df01.index))\n",
    "# print(df01)\n",
    "value_list = ['verilog']\n",
    "df02 = df01[df01['tagnames'].isin(value_list)]\n",
    "# df02['diff'] = df02['AcceptedAnswerdate'] - df02['creationdate']\n",
    "print(len(df02.index))\n",
    "print('Topic 0 Average Answer Date: ', df02['diff'].mean())"
   ]
  },
  {
   "cell_type": "code",
   "execution_count": 43,
   "id": "d60c1eca",
   "metadata": {},
   "outputs": [
    {
     "name": "stdout",
     "output_type": "stream",
     "text": [
      "800\n",
      "274\n",
      "Topic 0 Average Answer Date:  9 days 17:33:18.897637795\n"
     ]
    }
   ],
   "source": [
    "import pandas as pd\n",
    "\n",
    "df0 = pd.read_excel (r'Topic_modeling_results_per_topic12.xlsx',sheet_name='Topic_6.0')\n",
    "df0.creationdate = pd.to_datetime(df0['creationdate'])\n",
    "df0.AcceptedAnswerdate = pd.to_datetime(df0['AcceptedAnswerdate'])\n",
    "\n",
    "df0['diff'] = df0['AcceptedAnswerdate'] - df0['creationdate']\n",
    "# df01 = df0[df0['tagnames'].str.contains('hdl')]\n",
    "# print(df01)\n",
    "df01 = (df0.assign(tagnames = df0['tagnames'].str.split(','))\n",
    "         .explode('tagnames')\n",
    "         .reset_index(drop=True))\n",
    "print(len(df01.index))\n",
    "# print(df01)\n",
    "value_list = ['verilog']\n",
    "df02 = df01[df01['tagnames'].isin(value_list)]\n",
    "# df02['diff'] = df02['AcceptedAnswerdate'] - df02['creationdate']\n",
    "print(len(df02.index))\n",
    "print('Topic 0 Average Answer Date: ', df02['diff'].mean())"
   ]
  },
  {
   "cell_type": "code",
   "execution_count": 44,
   "id": "d9e0c8b8",
   "metadata": {},
   "outputs": [
    {
     "name": "stdout",
     "output_type": "stream",
     "text": [
      "466\n",
      "185\n",
      "Topic 0 Average Answer Date:  6 days 04:54:01.318681318\n"
     ]
    }
   ],
   "source": [
    "import pandas as pd\n",
    "\n",
    "df0 = pd.read_excel (r'Topic_modeling_results_per_topic12.xlsx',sheet_name='Topic_7.0')\n",
    "df0.creationdate = pd.to_datetime(df0['creationdate'])\n",
    "df0.AcceptedAnswerdate = pd.to_datetime(df0['AcceptedAnswerdate'])\n",
    "\n",
    "df0['diff'] = df0['AcceptedAnswerdate'] - df0['creationdate']\n",
    "# df01 = df0[df0['tagnames'].str.contains('hdl')]\n",
    "# print(df01)\n",
    "df01 = (df0.assign(tagnames = df0['tagnames'].str.split(','))\n",
    "         .explode('tagnames')\n",
    "         .reset_index(drop=True))\n",
    "print(len(df01.index))\n",
    "# print(df01)\n",
    "value_list = ['verilog']\n",
    "df02 = df01[df01['tagnames'].isin(value_list)]\n",
    "# df02['diff'] = df02['AcceptedAnswerdate'] - df02['creationdate']\n",
    "print(len(df02.index))\n",
    "print('Topic 0 Average Answer Date: ', df02['diff'].mean())"
   ]
  },
  {
   "cell_type": "code",
   "execution_count": 45,
   "id": "74bdf96b",
   "metadata": {},
   "outputs": [
    {
     "name": "stdout",
     "output_type": "stream",
     "text": [
      "309\n",
      "57\n",
      "Topic 0 Average Answer Date:  0 days 15:33:48\n"
     ]
    }
   ],
   "source": [
    "import pandas as pd\n",
    "\n",
    "df0 = pd.read_excel (r'Topic_modeling_results_per_topic12.xlsx',sheet_name='Topic_8.0')\n",
    "df0.creationdate = pd.to_datetime(df0['creationdate'])\n",
    "df0.AcceptedAnswerdate = pd.to_datetime(df0['AcceptedAnswerdate'])\n",
    "\n",
    "df0['diff'] = df0['AcceptedAnswerdate'] - df0['creationdate']\n",
    "# df01 = df0[df0['tagnames'].str.contains('hdl')]\n",
    "# print(df01)\n",
    "df01 = (df0.assign(tagnames = df0['tagnames'].str.split(','))\n",
    "         .explode('tagnames')\n",
    "         .reset_index(drop=True))\n",
    "print(len(df01.index))\n",
    "# print(df01)\n",
    "value_list = ['verilog']\n",
    "df02 = df01[df01['tagnames'].isin(value_list)]\n",
    "# df02['diff'] = df02['AcceptedAnswerdate'] - df02['creationdate']\n",
    "print(len(df02.index))\n",
    "print('Topic 0 Average Answer Date: ', df02['diff'].mean())"
   ]
  },
  {
   "cell_type": "code",
   "execution_count": 46,
   "id": "01126851",
   "metadata": {},
   "outputs": [
    {
     "name": "stdout",
     "output_type": "stream",
     "text": [
      "1262\n",
      "481\n",
      "Topic 0 Average Answer Date:  0 days 14:43:09.423076923\n"
     ]
    }
   ],
   "source": [
    "import pandas as pd\n",
    "\n",
    "df0 = pd.read_excel (r'Topic_modeling_results_per_topic12.xlsx',sheet_name='Topic_9.0')\n",
    "df0.creationdate = pd.to_datetime(df0['creationdate'])\n",
    "df0.AcceptedAnswerdate = pd.to_datetime(df0['AcceptedAnswerdate'])\n",
    "\n",
    "df0['diff'] = df0['AcceptedAnswerdate'] - df0['creationdate']\n",
    "# df01 = df0[df0['tagnames'].str.contains('hdl')]\n",
    "# print(df01)\n",
    "df01 = (df0.assign(tagnames = df0['tagnames'].str.split(','))\n",
    "         .explode('tagnames')\n",
    "         .reset_index(drop=True))\n",
    "print(len(df01.index))\n",
    "# print(df01)\n",
    "value_list = ['verilog']\n",
    "df02 = df01[df01['tagnames'].isin(value_list)]\n",
    "# df02['diff'] = df02['AcceptedAnswerdate'] - df02['creationdate']\n",
    "print(len(df02.index))\n",
    "print('Topic 0 Average Answer Date: ', df02['diff'].mean())"
   ]
  },
  {
   "cell_type": "code",
   "execution_count": 47,
   "id": "49eef2b6",
   "metadata": {},
   "outputs": [
    {
     "name": "stdout",
     "output_type": "stream",
     "text": [
      "1444\n",
      "513\n",
      "Topic 0 Average Answer Date:  4 days 23:22:32.850678733\n"
     ]
    }
   ],
   "source": [
    "import pandas as pd\n",
    "\n",
    "df0 = pd.read_excel (r'Topic_modeling_results_per_topic12.xlsx',sheet_name='Topic_10.0')\n",
    "df0.creationdate = pd.to_datetime(df0['creationdate'])\n",
    "df0.AcceptedAnswerdate = pd.to_datetime(df0['AcceptedAnswerdate'])\n",
    "\n",
    "df0['diff'] = df0['AcceptedAnswerdate'] - df0['creationdate']\n",
    "# df01 = df0[df0['tagnames'].str.contains('hdl')]\n",
    "# print(df01)\n",
    "df01 = (df0.assign(tagnames = df0['tagnames'].str.split(','))\n",
    "         .explode('tagnames')\n",
    "         .reset_index(drop=True))\n",
    "print(len(df01.index))\n",
    "# print(df01)\n",
    "value_list = ['verilog']\n",
    "df02 = df01[df01['tagnames'].isin(value_list)]\n",
    "# df02['diff'] = df02['AcceptedAnswerdate'] - df02['creationdate']\n",
    "print(len(df02.index))\n",
    "print('Topic 0 Average Answer Date: ', df02['diff'].mean())"
   ]
  },
  {
   "cell_type": "code",
   "execution_count": 48,
   "id": "5d802f82",
   "metadata": {},
   "outputs": [
    {
     "name": "stdout",
     "output_type": "stream",
     "text": [
      "695\n",
      "71\n",
      "Topic 0 Average Answer Date:  38 days 20:57:29.387755102\n"
     ]
    }
   ],
   "source": [
    "import pandas as pd\n",
    "\n",
    "df0 = pd.read_excel (r'Topic_modeling_results_per_topic12.xlsx',sheet_name='Topic_11.0')\n",
    "df0.creationdate = pd.to_datetime(df0['creationdate'])\n",
    "df0.AcceptedAnswerdate = pd.to_datetime(df0['AcceptedAnswerdate'])\n",
    "\n",
    "df0['diff'] = df0['AcceptedAnswerdate'] - df0['creationdate']\n",
    "# df01 = df0[df0['tagnames'].str.contains('hdl')]\n",
    "# print(df01)\n",
    "df01 = (df0.assign(tagnames = df0['tagnames'].str.split(','))\n",
    "         .explode('tagnames')\n",
    "         .reset_index(drop=True))\n",
    "print(len(df01.index))\n",
    "# print(df01)\n",
    "value_list = ['verilog']\n",
    "df02 = df01[df01['tagnames'].isin(value_list)]\n",
    "# df02['diff'] = df02['AcceptedAnswerdate'] - df02['creationdate']\n",
    "print(len(df02.index))\n",
    "print('Topic 0 Average Answer Date: ', df02['diff'].mean())"
   ]
  },
  {
   "cell_type": "code",
   "execution_count": 49,
   "id": "c632fec4",
   "metadata": {},
   "outputs": [
    {
     "name": "stdout",
     "output_type": "stream",
     "text": [
      "992\n",
      "252\n",
      "Topic 0 Average Answer Date:  1 days 21:05:13.150684931\n"
     ]
    }
   ],
   "source": [
    "import pandas as pd\n",
    "\n",
    "df0 = pd.read_excel (r'Topic_modeling_results_per_topic12.xlsx',sheet_name='Topic_12.0')\n",
    "df0.creationdate = pd.to_datetime(df0['creationdate'])\n",
    "df0.AcceptedAnswerdate = pd.to_datetime(df0['AcceptedAnswerdate'])\n",
    "\n",
    "df0['diff'] = df0['AcceptedAnswerdate'] - df0['creationdate']\n",
    "# df01 = df0[df0['tagnames'].str.contains('hdl')]\n",
    "# print(df01)\n",
    "df01 = (df0.assign(tagnames = df0['tagnames'].str.split(','))\n",
    "         .explode('tagnames')\n",
    "         .reset_index(drop=True))\n",
    "print(len(df01.index))\n",
    "# print(df01)\n",
    "value_list = ['verilog']\n",
    "df02 = df01[df01['tagnames'].isin(value_list)]\n",
    "# df02['diff'] = df02['AcceptedAnswerdate'] - df02['creationdate']\n",
    "print(len(df02.index))\n",
    "print('Topic 0 Average Answer Date: ', df02['diff'].mean())"
   ]
  },
  {
   "cell_type": "code",
   "execution_count": 50,
   "id": "41ddf23f",
   "metadata": {},
   "outputs": [
    {
     "name": "stdout",
     "output_type": "stream",
     "text": [
      "303\n",
      "124\n",
      "Topic 0 Average Answer Date:  2 days 21:10:57.096774193\n"
     ]
    }
   ],
   "source": [
    "import pandas as pd\n",
    "\n",
    "df0 = pd.read_excel (r'Topic_modeling_results_per_topic12.xlsx',sheet_name='Topic_13.0')\n",
    "df0.creationdate = pd.to_datetime(df0['creationdate'])\n",
    "df0.AcceptedAnswerdate = pd.to_datetime(df0['AcceptedAnswerdate'])\n",
    "\n",
    "df0['diff'] = df0['AcceptedAnswerdate'] - df0['creationdate']\n",
    "# df01 = df0[df0['tagnames'].str.contains('hdl')]\n",
    "# print(df01)\n",
    "df01 = (df0.assign(tagnames = df0['tagnames'].str.split(','))\n",
    "         .explode('tagnames')\n",
    "         .reset_index(drop=True))\n",
    "print(len(df01.index))\n",
    "# print(df01)\n",
    "value_list = ['verilog']\n",
    "df02 = df01[df01['tagnames'].isin(value_list)]\n",
    "# df02['diff'] = df02['AcceptedAnswerdate'] - df02['creationdate']\n",
    "print(len(df02.index))\n",
    "print('Topic 0 Average Answer Date: ', df02['diff'].mean())"
   ]
  },
  {
   "cell_type": "code",
   "execution_count": 51,
   "id": "5ea9e3d3",
   "metadata": {},
   "outputs": [
    {
     "name": "stdout",
     "output_type": "stream",
     "text": [
      "330\n",
      "91\n",
      "Topic 0 Average Answer Date:  1 days 19:35:43.043478260\n"
     ]
    }
   ],
   "source": [
    "import pandas as pd\n",
    "\n",
    "df0 = pd.read_excel (r'Topic_modeling_results_per_topic12.xlsx',sheet_name='Topic_14.0')\n",
    "df0.creationdate = pd.to_datetime(df0['creationdate'])\n",
    "df0.AcceptedAnswerdate = pd.to_datetime(df0['AcceptedAnswerdate'])\n",
    "\n",
    "df0['diff'] = df0['AcceptedAnswerdate'] - df0['creationdate']\n",
    "# df01 = df0[df0['tagnames'].str.contains('hdl')]\n",
    "# print(df01)\n",
    "df01 = (df0.assign(tagnames = df0['tagnames'].str.split(','))\n",
    "         .explode('tagnames')\n",
    "         .reset_index(drop=True))\n",
    "print(len(df01.index))\n",
    "# print(df01)\n",
    "value_list = ['verilog']\n",
    "df02 = df01[df01['tagnames'].isin(value_list)]\n",
    "# df02['diff'] = df02['AcceptedAnswerdate'] - df02['creationdate']\n",
    "print(len(df02.index))\n",
    "print('Topic 0 Average Answer Date: ', df02['diff'].mean())"
   ]
  },
  {
   "cell_type": "code",
   "execution_count": 52,
   "id": "fc55f587",
   "metadata": {},
   "outputs": [
    {
     "name": "stdout",
     "output_type": "stream",
     "text": [
      "2248\n",
      "798\n",
      "Topic 0 Average Answer Date:  5 days 14:38:20.788381742\n"
     ]
    }
   ],
   "source": [
    "import pandas as pd\n",
    "\n",
    "df0 = pd.read_excel (r'Topic_modeling_results_per_topic12.xlsx',sheet_name='Topic_15.0')\n",
    "df0.creationdate = pd.to_datetime(df0['creationdate'])\n",
    "df0.AcceptedAnswerdate = pd.to_datetime(df0['AcceptedAnswerdate'])\n",
    "\n",
    "df0['diff'] = df0['AcceptedAnswerdate'] - df0['creationdate']\n",
    "# df01 = df0[df0['tagnames'].str.contains('hdl')]\n",
    "# print(df01)\n",
    "df01 = (df0.assign(tagnames = df0['tagnames'].str.split(','))\n",
    "         .explode('tagnames')\n",
    "         .reset_index(drop=True))\n",
    "print(len(df01.index))\n",
    "# print(df01)\n",
    "value_list = ['verilog']\n",
    "df02 = df01[df01['tagnames'].isin(value_list)]\n",
    "# df02['diff'] = df02['AcceptedAnswerdate'] - df02['creationdate']\n",
    "print(len(df02.index))\n",
    "print('Topic 0 Average Answer Date: ', df02['diff'].mean())"
   ]
  },
  {
   "cell_type": "code",
   "execution_count": 53,
   "id": "e3781ff7",
   "metadata": {},
   "outputs": [
    {
     "name": "stdout",
     "output_type": "stream",
     "text": [
      "1087\n",
      "165\n",
      "Topic 0 Average Answer Date:  0 days 08:17:39.310344827\n"
     ]
    }
   ],
   "source": [
    "import pandas as pd\n",
    "\n",
    "df0 = pd.read_excel (r'Topic_modeling_results_per_topic12.xlsx',sheet_name='Topic_0.0')\n",
    "\n",
    "df0.creationdate = pd.to_datetime(df0['creationdate'])\n",
    "df0.AcceptedAnswerdate = pd.to_datetime(df0['AcceptedAnswerdate'])\n",
    "df0['diff'] = df0['AcceptedAnswerdate'] - df0['creationdate']\n",
    "# df01 = df0[df0['tagnames'].str.contains('hdl')]\n",
    "# print(df01)\n",
    "df01 = (df0.assign(tagnames = df0['tagnames'].str.split(','))\n",
    "         .explode('tagnames')\n",
    "         .reset_index(drop=True))\n",
    "print(len(df01.index))\n",
    "value_list = ['system-verilog']\n",
    "df02 = df01[df01['tagnames'].isin(value_list)]\n",
    "# df02['diff'] = df02['AcceptedAnswerdate'] - df02['creationdate']\n",
    "print(len(df02.index))\n",
    "print('Topic 0 Average Answer Date: ', df02['diff'].mean())"
   ]
  },
  {
   "cell_type": "code",
   "execution_count": 54,
   "id": "4c6d5240",
   "metadata": {},
   "outputs": [
    {
     "name": "stdout",
     "output_type": "stream",
     "text": [
      "940\n",
      "152\n",
      "Topic 0 Average Answer Date:  6 days 01:12:04.186046511\n"
     ]
    }
   ],
   "source": [
    "import pandas as pd\n",
    "\n",
    "df0 = pd.read_excel (r'Topic_modeling_results_per_topic12.xlsx',sheet_name='Topic_1.0')\n",
    "\n",
    "df0.creationdate = pd.to_datetime(df0['creationdate'])\n",
    "df0.AcceptedAnswerdate = pd.to_datetime(df0['AcceptedAnswerdate'])\n",
    "df0['diff'] = df0['AcceptedAnswerdate'] - df0['creationdate']\n",
    "# df01 = df0[df0['tagnames'].str.contains('hdl')]\n",
    "# print(df01)\n",
    "df01 = (df0.assign(tagnames = df0['tagnames'].str.split(','))\n",
    "         .explode('tagnames')\n",
    "         .reset_index(drop=True))\n",
    "print(len(df01.index))\n",
    "value_list = ['system-verilog']\n",
    "df02 = df01[df01['tagnames'].isin(value_list)]\n",
    "# df02['diff'] = df02['AcceptedAnswerdate'] - df02['creationdate']\n",
    "print(len(df02.index))\n",
    "print('Topic 0 Average Answer Date: ', df02['diff'].mean())"
   ]
  },
  {
   "cell_type": "code",
   "execution_count": 55,
   "id": "95987d0f",
   "metadata": {},
   "outputs": [
    {
     "name": "stdout",
     "output_type": "stream",
     "text": [
      "1820\n",
      "278\n",
      "Topic 0 Average Answer Date:  21 days 10:28:45.333333333\n"
     ]
    }
   ],
   "source": [
    "import pandas as pd\n",
    "\n",
    "df0 = pd.read_excel (r'Topic_modeling_results_per_topic12.xlsx',sheet_name='Topic_2.0')\n",
    "\n",
    "df0.creationdate = pd.to_datetime(df0['creationdate'])\n",
    "df0.AcceptedAnswerdate = pd.to_datetime(df0['AcceptedAnswerdate'])\n",
    "df0['diff'] = df0['AcceptedAnswerdate'] - df0['creationdate']\n",
    "# df01 = df0[df0['tagnames'].str.contains('hdl')]\n",
    "# print(df01)\n",
    "df01 = (df0.assign(tagnames = df0['tagnames'].str.split(','))\n",
    "         .explode('tagnames')\n",
    "         .reset_index(drop=True))\n",
    "print(len(df01.index))\n",
    "value_list = ['system-verilog']\n",
    "df02 = df01[df01['tagnames'].isin(value_list)]\n",
    "# df02['diff'] = df02['AcceptedAnswerdate'] - df02['creationdate']\n",
    "print(len(df02.index))\n",
    "print('Topic 0 Average Answer Date: ', df02['diff'].mean())"
   ]
  },
  {
   "cell_type": "code",
   "execution_count": 56,
   "id": "ea6cface",
   "metadata": {},
   "outputs": [
    {
     "name": "stdout",
     "output_type": "stream",
     "text": [
      "928\n",
      "97\n",
      "Topic 0 Average Answer Date:  2 days 05:27:10.909090909\n"
     ]
    }
   ],
   "source": [
    "import pandas as pd\n",
    "\n",
    "df0 = pd.read_excel (r'Topic_modeling_results_per_topic12.xlsx',sheet_name='Topic_3.0')\n",
    "\n",
    "df0.creationdate = pd.to_datetime(df0['creationdate'])\n",
    "df0.AcceptedAnswerdate = pd.to_datetime(df0['AcceptedAnswerdate'])\n",
    "df0['diff'] = df0['AcceptedAnswerdate'] - df0['creationdate']\n",
    "# df01 = df0[df0['tagnames'].str.contains('hdl')]\n",
    "# print(df01)\n",
    "df01 = (df0.assign(tagnames = df0['tagnames'].str.split(','))\n",
    "         .explode('tagnames')\n",
    "         .reset_index(drop=True))\n",
    "print(len(df01.index))\n",
    "value_list = ['system-verilog']\n",
    "df02 = df01[df01['tagnames'].isin(value_list)]\n",
    "# df02['diff'] = df02['AcceptedAnswerdate'] - df02['creationdate']\n",
    "print(len(df02.index))\n",
    "print('Topic 0 Average Answer Date: ', df02['diff'].mean())"
   ]
  },
  {
   "cell_type": "code",
   "execution_count": 57,
   "id": "c12198a1",
   "metadata": {},
   "outputs": [
    {
     "name": "stdout",
     "output_type": "stream",
     "text": [
      "863\n",
      "151\n",
      "Topic 0 Average Answer Date:  1 days 13:03:20\n"
     ]
    }
   ],
   "source": [
    "import pandas as pd\n",
    "\n",
    "df0 = pd.read_excel (r'Topic_modeling_results_per_topic12.xlsx',sheet_name='Topic_4.0')\n",
    "\n",
    "df0.creationdate = pd.to_datetime(df0['creationdate'])\n",
    "df0.AcceptedAnswerdate = pd.to_datetime(df0['AcceptedAnswerdate'])\n",
    "df0['diff'] = df0['AcceptedAnswerdate'] - df0['creationdate']\n",
    "# df01 = df0[df0['tagnames'].str.contains('hdl')]\n",
    "# print(df01)\n",
    "df01 = (df0.assign(tagnames = df0['tagnames'].str.split(','))\n",
    "         .explode('tagnames')\n",
    "         .reset_index(drop=True))\n",
    "print(len(df01.index))\n",
    "value_list = ['system-verilog']\n",
    "df02 = df01[df01['tagnames'].isin(value_list)]\n",
    "# df02['diff'] = df02['AcceptedAnswerdate'] - df02['creationdate']\n",
    "print(len(df02.index))\n",
    "print('Topic 0 Average Answer Date: ', df02['diff'].mean())"
   ]
  },
  {
   "cell_type": "code",
   "execution_count": 58,
   "id": "1ddff7ba",
   "metadata": {},
   "outputs": [
    {
     "name": "stdout",
     "output_type": "stream",
     "text": [
      "545\n",
      "70\n",
      "Topic 0 Average Answer Date:  19 days 10:25:31.875000\n"
     ]
    }
   ],
   "source": [
    "import pandas as pd\n",
    "\n",
    "df0 = pd.read_excel (r'Topic_modeling_results_per_topic12.xlsx',sheet_name='Topic_5.0')\n",
    "\n",
    "df0.creationdate = pd.to_datetime(df0['creationdate'])\n",
    "df0.AcceptedAnswerdate = pd.to_datetime(df0['AcceptedAnswerdate'])\n",
    "df0['diff'] = df0['AcceptedAnswerdate'] - df0['creationdate']\n",
    "# df01 = df0[df0['tagnames'].str.contains('hdl')]\n",
    "# print(df01)\n",
    "df01 = (df0.assign(tagnames = df0['tagnames'].str.split(','))\n",
    "         .explode('tagnames')\n",
    "         .reset_index(drop=True))\n",
    "print(len(df01.index))\n",
    "value_list = ['system-verilog']\n",
    "df02 = df01[df01['tagnames'].isin(value_list)]\n",
    "# df02['diff'] = df02['AcceptedAnswerdate'] - df02['creationdate']\n",
    "print(len(df02.index))\n",
    "print('Topic 0 Average Answer Date: ', df02['diff'].mean())"
   ]
  },
  {
   "cell_type": "code",
   "execution_count": 59,
   "id": "defcf8c8",
   "metadata": {},
   "outputs": [
    {
     "name": "stdout",
     "output_type": "stream",
     "text": [
      "800\n",
      "47\n",
      "Topic 0 Average Answer Date:  2 days 08:16:36.666666666\n"
     ]
    }
   ],
   "source": [
    "import pandas as pd\n",
    "\n",
    "df0 = pd.read_excel (r'Topic_modeling_results_per_topic12.xlsx',sheet_name='Topic_6.0')\n",
    "\n",
    "df0.creationdate = pd.to_datetime(df0['creationdate'])\n",
    "df0.AcceptedAnswerdate = pd.to_datetime(df0['AcceptedAnswerdate'])\n",
    "df0['diff'] = df0['AcceptedAnswerdate'] - df0['creationdate']\n",
    "# df01 = df0[df0['tagnames'].str.contains('hdl')]\n",
    "# print(df01)\n",
    "df01 = (df0.assign(tagnames = df0['tagnames'].str.split(','))\n",
    "         .explode('tagnames')\n",
    "         .reset_index(drop=True))\n",
    "print(len(df01.index))\n",
    "value_list = ['system-verilog']\n",
    "df02 = df01[df01['tagnames'].isin(value_list)]\n",
    "# df02['diff'] = df02['AcceptedAnswerdate'] - df02['creationdate']\n",
    "print(len(df02.index))\n",
    "print('Topic 0 Average Answer Date: ', df02['diff'].mean())"
   ]
  },
  {
   "cell_type": "code",
   "execution_count": 60,
   "id": "e008b078",
   "metadata": {},
   "outputs": [
    {
     "name": "stdout",
     "output_type": "stream",
     "text": [
      "466\n",
      "55\n",
      "Topic 0 Average Answer Date:  5 days 12:37:47.586206896\n"
     ]
    }
   ],
   "source": [
    "import pandas as pd\n",
    "\n",
    "df0 = pd.read_excel (r'Topic_modeling_results_per_topic12.xlsx',sheet_name='Topic_7.0')\n",
    "\n",
    "df0.creationdate = pd.to_datetime(df0['creationdate'])\n",
    "df0.AcceptedAnswerdate = pd.to_datetime(df0['AcceptedAnswerdate'])\n",
    "df0['diff'] = df0['AcceptedAnswerdate'] - df0['creationdate']\n",
    "# df01 = df0[df0['tagnames'].str.contains('hdl')]\n",
    "# print(df01)\n",
    "df01 = (df0.assign(tagnames = df0['tagnames'].str.split(','))\n",
    "         .explode('tagnames')\n",
    "         .reset_index(drop=True))\n",
    "print(len(df01.index))\n",
    "value_list = ['system-verilog']\n",
    "df02 = df01[df01['tagnames'].isin(value_list)]\n",
    "# df02['diff'] = df02['AcceptedAnswerdate'] - df02['creationdate']\n",
    "print(len(df02.index))\n",
    "print('Topic 0 Average Answer Date: ', df02['diff'].mean())"
   ]
  },
  {
   "cell_type": "code",
   "execution_count": 61,
   "id": "21d9f409",
   "metadata": {},
   "outputs": [
    {
     "name": "stdout",
     "output_type": "stream",
     "text": [
      "309\n",
      "77\n",
      "Topic 0 Average Answer Date:  0 days 15:24:06.666666666\n"
     ]
    }
   ],
   "source": [
    "import pandas as pd\n",
    "\n",
    "df0 = pd.read_excel (r'Topic_modeling_results_per_topic12.xlsx',sheet_name='Topic_8.0')\n",
    "\n",
    "df0.creationdate = pd.to_datetime(df0['creationdate'])\n",
    "df0.AcceptedAnswerdate = pd.to_datetime(df0['AcceptedAnswerdate'])\n",
    "df0['diff'] = df0['AcceptedAnswerdate'] - df0['creationdate']\n",
    "# df01 = df0[df0['tagnames'].str.contains('hdl')]\n",
    "# print(df01)\n",
    "df01 = (df0.assign(tagnames = df0['tagnames'].str.split(','))\n",
    "         .explode('tagnames')\n",
    "         .reset_index(drop=True))\n",
    "print(len(df01.index))\n",
    "value_list = ['system-verilog']\n",
    "df02 = df01[df01['tagnames'].isin(value_list)]\n",
    "# df02['diff'] = df02['AcceptedAnswerdate'] - df02['creationdate']\n",
    "print(len(df02.index))\n",
    "print('Topic 0 Average Answer Date: ', df02['diff'].mean())"
   ]
  },
  {
   "cell_type": "code",
   "execution_count": 62,
   "id": "d901aa5d",
   "metadata": {},
   "outputs": [
    {
     "name": "stdout",
     "output_type": "stream",
     "text": [
      "1262\n",
      "306\n",
      "Topic 0 Average Answer Date:  5 days 18:31:52.574257425\n"
     ]
    }
   ],
   "source": [
    "import pandas as pd\n",
    "\n",
    "df0 = pd.read_excel (r'Topic_modeling_results_per_topic12.xlsx',sheet_name='Topic_9.0')\n",
    "\n",
    "df0.creationdate = pd.to_datetime(df0['creationdate'])\n",
    "df0.AcceptedAnswerdate = pd.to_datetime(df0['AcceptedAnswerdate'])\n",
    "df0['diff'] = df0['AcceptedAnswerdate'] - df0['creationdate']\n",
    "# df01 = df0[df0['tagnames'].str.contains('hdl')]\n",
    "# print(df01)\n",
    "df01 = (df0.assign(tagnames = df0['tagnames'].str.split(','))\n",
    "         .explode('tagnames')\n",
    "         .reset_index(drop=True))\n",
    "print(len(df01.index))\n",
    "value_list = ['system-verilog']\n",
    "df02 = df01[df01['tagnames'].isin(value_list)]\n",
    "# df02['diff'] = df02['AcceptedAnswerdate'] - df02['creationdate']\n",
    "print(len(df02.index))\n",
    "print('Topic 0 Average Answer Date: ', df02['diff'].mean())"
   ]
  },
  {
   "cell_type": "code",
   "execution_count": 63,
   "id": "ced0f269",
   "metadata": {},
   "outputs": [
    {
     "name": "stdout",
     "output_type": "stream",
     "text": [
      "1444\n",
      "162\n",
      "Topic 0 Average Answer Date:  15 days 04:37:56.896551724\n"
     ]
    }
   ],
   "source": [
    "import pandas as pd\n",
    "\n",
    "df0 = pd.read_excel (r'Topic_modeling_results_per_topic12.xlsx',sheet_name='Topic_10.0')\n",
    "\n",
    "df0.creationdate = pd.to_datetime(df0['creationdate'])\n",
    "df0.AcceptedAnswerdate = pd.to_datetime(df0['AcceptedAnswerdate'])\n",
    "df0['diff'] = df0['AcceptedAnswerdate'] - df0['creationdate']\n",
    "# df01 = df0[df0['tagnames'].str.contains('hdl')]\n",
    "# print(df01)\n",
    "df01 = (df0.assign(tagnames = df0['tagnames'].str.split(','))\n",
    "         .explode('tagnames')\n",
    "         .reset_index(drop=True))\n",
    "print(len(df01.index))\n",
    "value_list = ['system-verilog']\n",
    "df02 = df01[df01['tagnames'].isin(value_list)]\n",
    "# df02['diff'] = df02['AcceptedAnswerdate'] - df02['creationdate']\n",
    "print(len(df02.index))\n",
    "print('Topic 0 Average Answer Date: ', df02['diff'].mean())"
   ]
  },
  {
   "cell_type": "code",
   "execution_count": 64,
   "id": "59b53517",
   "metadata": {},
   "outputs": [
    {
     "name": "stdout",
     "output_type": "stream",
     "text": [
      "695\n",
      "92\n",
      "Topic 0 Average Answer Date:  0 days 05:55:17\n"
     ]
    }
   ],
   "source": [
    "import pandas as pd\n",
    "\n",
    "df0 = pd.read_excel (r'Topic_modeling_results_per_topic12.xlsx',sheet_name='Topic_11.0')\n",
    "\n",
    "df0.creationdate = pd.to_datetime(df0['creationdate'])\n",
    "df0.AcceptedAnswerdate = pd.to_datetime(df0['AcceptedAnswerdate'])\n",
    "df0['diff'] = df0['AcceptedAnswerdate'] - df0['creationdate']\n",
    "# df01 = df0[df0['tagnames'].str.contains('hdl')]\n",
    "# print(df01)\n",
    "df01 = (df0.assign(tagnames = df0['tagnames'].str.split(','))\n",
    "         .explode('tagnames')\n",
    "         .reset_index(drop=True))\n",
    "print(len(df01.index))\n",
    "value_list = ['system-verilog']\n",
    "df02 = df01[df01['tagnames'].isin(value_list)]\n",
    "# df02['diff'] = df02['AcceptedAnswerdate'] - df02['creationdate']\n",
    "print(len(df02.index))\n",
    "print('Topic 0 Average Answer Date: ', df02['diff'].mean())"
   ]
  },
  {
   "cell_type": "code",
   "execution_count": 65,
   "id": "443961a4",
   "metadata": {},
   "outputs": [
    {
     "name": "stdout",
     "output_type": "stream",
     "text": [
      "992\n",
      "499\n",
      "Topic 0 Average Answer Date:  1 days 16:35:50.666666666\n"
     ]
    }
   ],
   "source": [
    "import pandas as pd\n",
    "\n",
    "df0 = pd.read_excel (r'Topic_modeling_results_per_topic12.xlsx',sheet_name='Topic_12.0')\n",
    "\n",
    "df0.creationdate = pd.to_datetime(df0['creationdate'])\n",
    "df0.AcceptedAnswerdate = pd.to_datetime(df0['AcceptedAnswerdate'])\n",
    "df0['diff'] = df0['AcceptedAnswerdate'] - df0['creationdate']\n",
    "# df01 = df0[df0['tagnames'].str.contains('hdl')]\n",
    "# print(df01)\n",
    "df01 = (df0.assign(tagnames = df0['tagnames'].str.split(','))\n",
    "         .explode('tagnames')\n",
    "         .reset_index(drop=True))\n",
    "print(len(df01.index))\n",
    "value_list = ['system-verilog']\n",
    "df02 = df01[df01['tagnames'].isin(value_list)]\n",
    "# df02['diff'] = df02['AcceptedAnswerdate'] - df02['creationdate']\n",
    "print(len(df02.index))\n",
    "print('Topic 0 Average Answer Date: ', df02['diff'].mean())"
   ]
  },
  {
   "cell_type": "code",
   "execution_count": 66,
   "id": "ab06c580",
   "metadata": {},
   "outputs": [
    {
     "name": "stdout",
     "output_type": "stream",
     "text": [
      "992\n",
      "499\n",
      "Topic 0 Average Answer Date:  1 days 16:35:50.666666666\n"
     ]
    }
   ],
   "source": [
    "import pandas as pd\n",
    "\n",
    "df0 = pd.read_excel (r'Topic_modeling_results_per_topic12.xlsx',sheet_name='Topic_12.0')\n",
    "\n",
    "df0.creationdate = pd.to_datetime(df0['creationdate'])\n",
    "df0.AcceptedAnswerdate = pd.to_datetime(df0['AcceptedAnswerdate'])\n",
    "df0['diff'] = df0['AcceptedAnswerdate'] - df0['creationdate']\n",
    "# df01 = df0[df0['tagnames'].str.contains('hdl')]\n",
    "# print(df01)\n",
    "df01 = (df0.assign(tagnames = df0['tagnames'].str.split(','))\n",
    "         .explode('tagnames')\n",
    "         .reset_index(drop=True))\n",
    "print(len(df01.index))\n",
    "value_list = ['system-verilog']\n",
    "df02 = df01[df01['tagnames'].isin(value_list)]\n",
    "# df02['diff'] = df02['AcceptedAnswerdate'] - df02['creationdate']\n",
    "print(len(df02.index))\n",
    "print('Topic 0 Average Answer Date: ', df02['diff'].mean())"
   ]
  },
  {
   "cell_type": "code",
   "execution_count": 67,
   "id": "6c3226de",
   "metadata": {},
   "outputs": [
    {
     "name": "stdout",
     "output_type": "stream",
     "text": [
      "303\n",
      "33\n",
      "Topic 0 Average Answer Date:  0 days 10:04:52\n"
     ]
    }
   ],
   "source": [
    "import pandas as pd\n",
    "\n",
    "df0 = pd.read_excel (r'Topic_modeling_results_per_topic12.xlsx',sheet_name='Topic_13.0')\n",
    "\n",
    "df0.creationdate = pd.to_datetime(df0['creationdate'])\n",
    "df0.AcceptedAnswerdate = pd.to_datetime(df0['AcceptedAnswerdate'])\n",
    "df0['diff'] = df0['AcceptedAnswerdate'] - df0['creationdate']\n",
    "# df01 = df0[df0['tagnames'].str.contains('hdl')]\n",
    "# print(df01)\n",
    "df01 = (df0.assign(tagnames = df0['tagnames'].str.split(','))\n",
    "         .explode('tagnames')\n",
    "         .reset_index(drop=True))\n",
    "print(len(df01.index))\n",
    "value_list = ['system-verilog']\n",
    "df02 = df01[df01['tagnames'].isin(value_list)]\n",
    "# df02['diff'] = df02['AcceptedAnswerdate'] - df02['creationdate']\n",
    "print(len(df02.index))\n",
    "print('Topic 0 Average Answer Date: ', df02['diff'].mean())"
   ]
  },
  {
   "cell_type": "code",
   "execution_count": 68,
   "id": "987a6c03",
   "metadata": {},
   "outputs": [
    {
     "name": "stdout",
     "output_type": "stream",
     "text": [
      "330\n",
      "82\n",
      "Topic 0 Average Answer Date:  1 days 08:44:51.250000\n"
     ]
    }
   ],
   "source": [
    "import pandas as pd\n",
    "\n",
    "df0 = pd.read_excel (r'Topic_modeling_results_per_topic12.xlsx',sheet_name='Topic_14.0')\n",
    "\n",
    "df0.creationdate = pd.to_datetime(df0['creationdate'])\n",
    "df0.AcceptedAnswerdate = pd.to_datetime(df0['AcceptedAnswerdate'])\n",
    "df0['diff'] = df0['AcceptedAnswerdate'] - df0['creationdate']\n",
    "# df01 = df0[df0['tagnames'].str.contains('hdl')]\n",
    "# print(df01)\n",
    "df01 = (df0.assign(tagnames = df0['tagnames'].str.split(','))\n",
    "         .explode('tagnames')\n",
    "         .reset_index(drop=True))\n",
    "print(len(df01.index))\n",
    "value_list = ['system-verilog']\n",
    "df02 = df01[df01['tagnames'].isin(value_list)]\n",
    "# df02['diff'] = df02['AcceptedAnswerdate'] - df02['creationdate']\n",
    "print(len(df02.index))\n",
    "print('Topic 0 Average Answer Date: ', df02['diff'].mean())"
   ]
  },
  {
   "cell_type": "code",
   "execution_count": 69,
   "id": "520f05b5",
   "metadata": {},
   "outputs": [
    {
     "name": "stdout",
     "output_type": "stream",
     "text": [
      "2248\n",
      "300\n",
      "Topic 0 Average Answer Date:  4 days 18:35:43.703703703\n"
     ]
    }
   ],
   "source": [
    "import pandas as pd\n",
    "\n",
    "df0 = pd.read_excel (r'Topic_modeling_results_per_topic12.xlsx',sheet_name='Topic_15.0')\n",
    "\n",
    "df0.creationdate = pd.to_datetime(df0['creationdate'])\n",
    "df0.AcceptedAnswerdate = pd.to_datetime(df0['AcceptedAnswerdate'])\n",
    "df0['diff'] = df0['AcceptedAnswerdate'] - df0['creationdate']\n",
    "# df01 = df0[df0['tagnames'].str.contains('hdl')]\n",
    "# print(df01)\n",
    "df01 = (df0.assign(tagnames = df0['tagnames'].str.split(','))\n",
    "         .explode('tagnames')\n",
    "         .reset_index(drop=True))\n",
    "print(len(df01.index))\n",
    "value_list = ['system-verilog']\n",
    "df02 = df01[df01['tagnames'].isin(value_list)]\n",
    "# df02['diff'] = df02['AcceptedAnswerdate'] - df02['creationdate']\n",
    "print(len(df02.index))\n",
    "print('Topic 0 Average Answer Date: ', df02['diff'].mean())"
   ]
  },
  {
   "cell_type": "code",
   "execution_count": 70,
   "id": "d0ab1781",
   "metadata": {},
   "outputs": [
    {
     "name": "stdout",
     "output_type": "stream",
     "text": [
      "1087\n",
      "9\n",
      "Topic 0 Average Answer Date:  0 days 09:44:40\n"
     ]
    }
   ],
   "source": [
    "import pandas as pd\n",
    "\n",
    "df0 = pd.read_excel (r'Topic_modeling_results_per_topic12.xlsx',sheet_name='Topic_0.0')\n",
    "df0.creationdate = pd.to_datetime(df0['creationdate'])\n",
    "df0.AcceptedAnswerdate = pd.to_datetime(df0['AcceptedAnswerdate'])\n",
    "\n",
    "df0['diff'] = df0['AcceptedAnswerdate'] - df0['creationdate']\n",
    "# df01 = df0[df0['tagnames'].str.contains('hdl')]\n",
    "# print(df01)\n",
    "df01 = (df0.assign(tagnames = df0['tagnames'].str.split(','))\n",
    "         .explode('tagnames')\n",
    "         .reset_index(drop=True))\n",
    "print(len(df01.index))\n",
    "value_list = ['chisel']\n",
    "df02 = df01[df01['tagnames'].isin(value_list)]\n",
    "# df02['diff'] = df02['AcceptedAnswerdate'] - df02['creationdate']\n",
    "print(len(df02.index))\n",
    "print('Topic 0 Average Answer Date: ', df02['diff'].mean())"
   ]
  },
  {
   "cell_type": "code",
   "execution_count": 71,
   "id": "6c150460",
   "metadata": {},
   "outputs": [
    {
     "name": "stdout",
     "output_type": "stream",
     "text": [
      "940\n",
      "57\n",
      "Topic 0 Average Answer Date:  20 days 21:42:12\n"
     ]
    }
   ],
   "source": [
    "import pandas as pd\n",
    "\n",
    "df0 = pd.read_excel (r'Topic_modeling_results_per_topic12.xlsx',sheet_name='Topic_1.0')\n",
    "df0.creationdate = pd.to_datetime(df0['creationdate'])\n",
    "df0.AcceptedAnswerdate = pd.to_datetime(df0['AcceptedAnswerdate'])\n",
    "\n",
    "df0['diff'] = df0['AcceptedAnswerdate'] - df0['creationdate']\n",
    "# df01 = df0[df0['tagnames'].str.contains('hdl')]\n",
    "# print(df01)\n",
    "df01 = (df0.assign(tagnames = df0['tagnames'].str.split(','))\n",
    "         .explode('tagnames')\n",
    "         .reset_index(drop=True))\n",
    "print(len(df01.index))\n",
    "value_list = ['chisel']\n",
    "df02 = df01[df01['tagnames'].isin(value_list)]\n",
    "# df02['diff'] = df02['AcceptedAnswerdate'] - df02['creationdate']\n",
    "print(len(df02.index))\n",
    "print('Topic 0 Average Answer Date: ', df02['diff'].mean())"
   ]
  },
  {
   "cell_type": "code",
   "execution_count": 72,
   "id": "d3735009",
   "metadata": {},
   "outputs": [
    {
     "name": "stdout",
     "output_type": "stream",
     "text": [
      "1820\n",
      "42\n",
      "Topic 0 Average Answer Date:  1 days 03:39:54.782608695\n"
     ]
    }
   ],
   "source": [
    "import pandas as pd\n",
    "\n",
    "df0 = pd.read_excel (r'Topic_modeling_results_per_topic12.xlsx',sheet_name='Topic_2.0')\n",
    "df0.creationdate = pd.to_datetime(df0['creationdate'])\n",
    "df0.AcceptedAnswerdate = pd.to_datetime(df0['AcceptedAnswerdate'])\n",
    "\n",
    "df0['diff'] = df0['AcceptedAnswerdate'] - df0['creationdate']\n",
    "# df01 = df0[df0['tagnames'].str.contains('hdl')]\n",
    "# print(df01)\n",
    "df01 = (df0.assign(tagnames = df0['tagnames'].str.split(','))\n",
    "         .explode('tagnames')\n",
    "         .reset_index(drop=True))\n",
    "print(len(df01.index))\n",
    "value_list = ['chisel']\n",
    "df02 = df01[df01['tagnames'].isin(value_list)]\n",
    "# df02['diff'] = df02['AcceptedAnswerdate'] - df02['creationdate']\n",
    "print(len(df02.index))\n",
    "print('Topic 0 Average Answer Date: ', df02['diff'].mean())"
   ]
  },
  {
   "cell_type": "code",
   "execution_count": 73,
   "id": "bfaf0e67",
   "metadata": {},
   "outputs": [
    {
     "name": "stdout",
     "output_type": "stream",
     "text": [
      "928\n",
      "10\n",
      "Topic 0 Average Answer Date:  32 days 07:26:50\n"
     ]
    }
   ],
   "source": [
    "import pandas as pd\n",
    "\n",
    "df0 = pd.read_excel (r'Topic_modeling_results_per_topic12.xlsx',sheet_name='Topic_3.0')\n",
    "df0.creationdate = pd.to_datetime(df0['creationdate'])\n",
    "df0.AcceptedAnswerdate = pd.to_datetime(df0['AcceptedAnswerdate'])\n",
    "\n",
    "df0['diff'] = df0['AcceptedAnswerdate'] - df0['creationdate']\n",
    "# df01 = df0[df0['tagnames'].str.contains('hdl')]\n",
    "# print(df01)\n",
    "df01 = (df0.assign(tagnames = df0['tagnames'].str.split(','))\n",
    "         .explode('tagnames')\n",
    "         .reset_index(drop=True))\n",
    "print(len(df01.index))\n",
    "value_list = ['chisel']\n",
    "df02 = df01[df01['tagnames'].isin(value_list)]\n",
    "# df02['diff'] = df02['AcceptedAnswerdate'] - df02['creationdate']\n",
    "print(len(df02.index))\n",
    "print('Topic 0 Average Answer Date: ', df02['diff'].mean())"
   ]
  },
  {
   "cell_type": "code",
   "execution_count": 74,
   "id": "860a82be",
   "metadata": {},
   "outputs": [
    {
     "name": "stdout",
     "output_type": "stream",
     "text": [
      "863\n",
      "22\n",
      "Topic 0 Average Answer Date:  1 days 16:34:45\n"
     ]
    }
   ],
   "source": [
    "import pandas as pd\n",
    "\n",
    "df0 = pd.read_excel (r'Topic_modeling_results_per_topic12.xlsx',sheet_name='Topic_4.0')\n",
    "df0.creationdate = pd.to_datetime(df0['creationdate'])\n",
    "df0.AcceptedAnswerdate = pd.to_datetime(df0['AcceptedAnswerdate'])\n",
    "\n",
    "df0['diff'] = df0['AcceptedAnswerdate'] - df0['creationdate']\n",
    "# df01 = df0[df0['tagnames'].str.contains('hdl')]\n",
    "# print(df01)\n",
    "df01 = (df0.assign(tagnames = df0['tagnames'].str.split(','))\n",
    "         .explode('tagnames')\n",
    "         .reset_index(drop=True))\n",
    "print(len(df01.index))\n",
    "value_list = ['chisel']\n",
    "df02 = df01[df01['tagnames'].isin(value_list)]\n",
    "# df02['diff'] = df02['AcceptedAnswerdate'] - df02['creationdate']\n",
    "print(len(df02.index))\n",
    "print('Topic 0 Average Answer Date: ', df02['diff'].mean())"
   ]
  },
  {
   "cell_type": "code",
   "execution_count": 75,
   "id": "f0a64145",
   "metadata": {},
   "outputs": [
    {
     "name": "stdout",
     "output_type": "stream",
     "text": [
      "545\n",
      "9\n",
      "Topic 0 Average Answer Date:  47 days 22:57:00\n"
     ]
    }
   ],
   "source": [
    "import pandas as pd\n",
    "\n",
    "df0 = pd.read_excel (r'Topic_modeling_results_per_topic12.xlsx',sheet_name='Topic_5.0')\n",
    "df0.creationdate = pd.to_datetime(df0['creationdate'])\n",
    "df0.AcceptedAnswerdate = pd.to_datetime(df0['AcceptedAnswerdate'])\n",
    "\n",
    "df0['diff'] = df0['AcceptedAnswerdate'] - df0['creationdate']\n",
    "# df01 = df0[df0['tagnames'].str.contains('hdl')]\n",
    "# print(df01)\n",
    "df01 = (df0.assign(tagnames = df0['tagnames'].str.split(','))\n",
    "         .explode('tagnames')\n",
    "         .reset_index(drop=True))\n",
    "print(len(df01.index))\n",
    "value_list = ['chisel']\n",
    "df02 = df01[df01['tagnames'].isin(value_list)]\n",
    "# df02['diff'] = df02['AcceptedAnswerdate'] - df02['creationdate']\n",
    "print(len(df02.index))\n",
    "print('Topic 0 Average Answer Date: ', df02['diff'].mean())"
   ]
  },
  {
   "cell_type": "code",
   "execution_count": 76,
   "id": "c9ad0ead",
   "metadata": {},
   "outputs": [
    {
     "name": "stdout",
     "output_type": "stream",
     "text": [
      "800\n",
      "7\n",
      "Topic 0 Average Answer Date:  3 days 14:47:00\n"
     ]
    }
   ],
   "source": [
    "import pandas as pd\n",
    "\n",
    "df0 = pd.read_excel (r'Topic_modeling_results_per_topic12.xlsx',sheet_name='Topic_6.0')\n",
    "df0.creationdate = pd.to_datetime(df0['creationdate'])\n",
    "df0.AcceptedAnswerdate = pd.to_datetime(df0['AcceptedAnswerdate'])\n",
    "\n",
    "df0['diff'] = df0['AcceptedAnswerdate'] - df0['creationdate']\n",
    "# df01 = df0[df0['tagnames'].str.contains('hdl')]\n",
    "# print(df01)\n",
    "df01 = (df0.assign(tagnames = df0['tagnames'].str.split(','))\n",
    "         .explode('tagnames')\n",
    "         .reset_index(drop=True))\n",
    "print(len(df01.index))\n",
    "value_list = ['chisel']\n",
    "df02 = df01[df01['tagnames'].isin(value_list)]\n",
    "# df02['diff'] = df02['AcceptedAnswerdate'] - df02['creationdate']\n",
    "print(len(df02.index))\n",
    "print('Topic 0 Average Answer Date: ', df02['diff'].mean())"
   ]
  },
  {
   "cell_type": "code",
   "execution_count": 77,
   "id": "dc2d86fc",
   "metadata": {},
   "outputs": [
    {
     "name": "stdout",
     "output_type": "stream",
     "text": [
      "466\n",
      "21\n",
      "Topic 0 Average Answer Date:  4 days 20:21:21.818181818\n"
     ]
    }
   ],
   "source": [
    "import pandas as pd\n",
    "\n",
    "df0 = pd.read_excel (r'Topic_modeling_results_per_topic12.xlsx',sheet_name='Topic_7.0')\n",
    "df0.creationdate = pd.to_datetime(df0['creationdate'])\n",
    "df0.AcceptedAnswerdate = pd.to_datetime(df0['AcceptedAnswerdate'])\n",
    "\n",
    "df0['diff'] = df0['AcceptedAnswerdate'] - df0['creationdate']\n",
    "# df01 = df0[df0['tagnames'].str.contains('hdl')]\n",
    "# print(df01)\n",
    "df01 = (df0.assign(tagnames = df0['tagnames'].str.split(','))\n",
    "         .explode('tagnames')\n",
    "         .reset_index(drop=True))\n",
    "print(len(df01.index))\n",
    "value_list = ['chisel']\n",
    "df02 = df01[df01['tagnames'].isin(value_list)]\n",
    "# df02['diff'] = df02['AcceptedAnswerdate'] - df02['creationdate']\n",
    "print(len(df02.index))\n",
    "print('Topic 0 Average Answer Date: ', df02['diff'].mean())"
   ]
  },
  {
   "cell_type": "code",
   "execution_count": 78,
   "id": "818968bf",
   "metadata": {},
   "outputs": [
    {
     "name": "stdout",
     "output_type": "stream",
     "text": [
      "309\n",
      "124\n",
      "Topic 0 Average Answer Date:  22 days 13:50:20.281690140\n"
     ]
    }
   ],
   "source": [
    "import pandas as pd\n",
    "\n",
    "df0 = pd.read_excel (r'Topic_modeling_results_per_topic12.xlsx',sheet_name='Topic_8.0')\n",
    "df0.creationdate = pd.to_datetime(df0['creationdate'])\n",
    "df0.AcceptedAnswerdate = pd.to_datetime(df0['AcceptedAnswerdate'])\n",
    "\n",
    "df0['diff'] = df0['AcceptedAnswerdate'] - df0['creationdate']\n",
    "# df01 = df0[df0['tagnames'].str.contains('hdl')]\n",
    "# print(df01)\n",
    "df01 = (df0.assign(tagnames = df0['tagnames'].str.split(','))\n",
    "         .explode('tagnames')\n",
    "         .reset_index(drop=True))\n",
    "print(len(df01.index))\n",
    "value_list = ['chisel']\n",
    "df02 = df01[df01['tagnames'].isin(value_list)]\n",
    "# df02['diff'] = df02['AcceptedAnswerdate'] - df02['creationdate']\n",
    "print(len(df02.index))\n",
    "print('Topic 0 Average Answer Date: ', df02['diff'].mean())"
   ]
  },
  {
   "cell_type": "code",
   "execution_count": 79,
   "id": "41624cc3",
   "metadata": {},
   "outputs": [
    {
     "name": "stdout",
     "output_type": "stream",
     "text": [
      "1262\n",
      "38\n",
      "Topic 0 Average Answer Date:  0 days 14:01:00\n"
     ]
    }
   ],
   "source": [
    "import pandas as pd\n",
    "\n",
    "df0 = pd.read_excel (r'Topic_modeling_results_per_topic12.xlsx',sheet_name='Topic_9.0')\n",
    "df0.creationdate = pd.to_datetime(df0['creationdate'])\n",
    "df0.AcceptedAnswerdate = pd.to_datetime(df0['AcceptedAnswerdate'])\n",
    "\n",
    "df0['diff'] = df0['AcceptedAnswerdate'] - df0['creationdate']\n",
    "# df01 = df0[df0['tagnames'].str.contains('hdl')]\n",
    "# print(df01)\n",
    "df01 = (df0.assign(tagnames = df0['tagnames'].str.split(','))\n",
    "         .explode('tagnames')\n",
    "         .reset_index(drop=True))\n",
    "print(len(df01.index))\n",
    "value_list = ['chisel']\n",
    "df02 = df01[df01['tagnames'].isin(value_list)]\n",
    "# df02['diff'] = df02['AcceptedAnswerdate'] - df02['creationdate']\n",
    "print(len(df02.index))\n",
    "print('Topic 0 Average Answer Date: ', df02['diff'].mean())"
   ]
  },
  {
   "cell_type": "code",
   "execution_count": 80,
   "id": "c591096b",
   "metadata": {},
   "outputs": [
    {
     "name": "stdout",
     "output_type": "stream",
     "text": [
      "1444\n",
      "43\n",
      "Topic 0 Average Answer Date:  0 days 10:56:51.428571428\n"
     ]
    }
   ],
   "source": [
    "import pandas as pd\n",
    "\n",
    "df0 = pd.read_excel (r'Topic_modeling_results_per_topic12.xlsx',sheet_name='Topic_10.0')\n",
    "df0.creationdate = pd.to_datetime(df0['creationdate'])\n",
    "df0.AcceptedAnswerdate = pd.to_datetime(df0['AcceptedAnswerdate'])\n",
    "\n",
    "df0['diff'] = df0['AcceptedAnswerdate'] - df0['creationdate']\n",
    "# df01 = df0[df0['tagnames'].str.contains('hdl')]\n",
    "# print(df01)\n",
    "df01 = (df0.assign(tagnames = df0['tagnames'].str.split(','))\n",
    "         .explode('tagnames')\n",
    "         .reset_index(drop=True))\n",
    "print(len(df01.index))\n",
    "value_list = ['chisel']\n",
    "df02 = df01[df01['tagnames'].isin(value_list)]\n",
    "# df02['diff'] = df02['AcceptedAnswerdate'] - df02['creationdate']\n",
    "print(len(df02.index))\n",
    "print('Topic 0 Average Answer Date: ', df02['diff'].mean())"
   ]
  },
  {
   "cell_type": "code",
   "execution_count": 81,
   "id": "01f0f5d9",
   "metadata": {},
   "outputs": [
    {
     "name": "stdout",
     "output_type": "stream",
     "text": [
      "695\n",
      "19\n",
      "Topic 0 Average Answer Date:  155 days 08:07:45\n"
     ]
    }
   ],
   "source": [
    "import pandas as pd\n",
    "\n",
    "df0 = pd.read_excel (r'Topic_modeling_results_per_topic12.xlsx',sheet_name='Topic_11.0')\n",
    "df0.creationdate = pd.to_datetime(df0['creationdate'])\n",
    "df0.AcceptedAnswerdate = pd.to_datetime(df0['AcceptedAnswerdate'])\n",
    "\n",
    "df0['diff'] = df0['AcceptedAnswerdate'] - df0['creationdate']\n",
    "# df01 = df0[df0['tagnames'].str.contains('hdl')]\n",
    "# print(df01)\n",
    "df01 = (df0.assign(tagnames = df0['tagnames'].str.split(','))\n",
    "         .explode('tagnames')\n",
    "         .reset_index(drop=True))\n",
    "print(len(df01.index))\n",
    "value_list = ['chisel']\n",
    "df02 = df01[df01['tagnames'].isin(value_list)]\n",
    "# df02['diff'] = df02['AcceptedAnswerdate'] - df02['creationdate']\n",
    "print(len(df02.index))\n",
    "print('Topic 0 Average Answer Date: ', df02['diff'].mean())"
   ]
  },
  {
   "cell_type": "code",
   "execution_count": 82,
   "id": "199b9b81",
   "metadata": {},
   "outputs": [
    {
     "name": "stdout",
     "output_type": "stream",
     "text": [
      "992\n",
      "43\n",
      "Topic 0 Average Answer Date:  10 days 14:31:55.200000\n"
     ]
    }
   ],
   "source": [
    "import pandas as pd\n",
    "\n",
    "df0 = pd.read_excel (r'Topic_modeling_results_per_topic12.xlsx',sheet_name='Topic_12.0')\n",
    "df0.creationdate = pd.to_datetime(df0['creationdate'])\n",
    "df0.AcceptedAnswerdate = pd.to_datetime(df0['AcceptedAnswerdate'])\n",
    "\n",
    "df0['diff'] = df0['AcceptedAnswerdate'] - df0['creationdate']\n",
    "# df01 = df0[df0['tagnames'].str.contains('hdl')]\n",
    "# print(df01)\n",
    "df01 = (df0.assign(tagnames = df0['tagnames'].str.split(','))\n",
    "         .explode('tagnames')\n",
    "         .reset_index(drop=True))\n",
    "print(len(df01.index))\n",
    "value_list = ['chisel']\n",
    "df02 = df01[df01['tagnames'].isin(value_list)]\n",
    "# df02['diff'] = df02['AcceptedAnswerdate'] - df02['creationdate']\n",
    "print(len(df02.index))\n",
    "print('Topic 0 Average Answer Date: ', df02['diff'].mean())"
   ]
  },
  {
   "cell_type": "code",
   "execution_count": 83,
   "id": "73a8b378",
   "metadata": {},
   "outputs": [
    {
     "name": "stdout",
     "output_type": "stream",
     "text": [
      "303\n",
      "11\n",
      "Topic 0 Average Answer Date:  71 days 00:01:40\n"
     ]
    }
   ],
   "source": [
    "import pandas as pd\n",
    "\n",
    "df0 = pd.read_excel (r'Topic_modeling_results_per_topic12.xlsx',sheet_name='Topic_13.0')\n",
    "df0.creationdate = pd.to_datetime(df0['creationdate'])\n",
    "df0.AcceptedAnswerdate = pd.to_datetime(df0['AcceptedAnswerdate'])\n",
    "\n",
    "df0['diff'] = df0['AcceptedAnswerdate'] - df0['creationdate']\n",
    "# df01 = df0[df0['tagnames'].str.contains('hdl')]\n",
    "# print(df01)\n",
    "df01 = (df0.assign(tagnames = df0['tagnames'].str.split(','))\n",
    "         .explode('tagnames')\n",
    "         .reset_index(drop=True))\n",
    "print(len(df01.index))\n",
    "value_list = ['chisel']\n",
    "df02 = df01[df01['tagnames'].isin(value_list)]\n",
    "# df02['diff'] = df02['AcceptedAnswerdate'] - df02['creationdate']\n",
    "print(len(df02.index))\n",
    "print('Topic 0 Average Answer Date: ', df02['diff'].mean())"
   ]
  },
  {
   "cell_type": "code",
   "execution_count": 84,
   "id": "83e47baf",
   "metadata": {},
   "outputs": [
    {
     "name": "stdout",
     "output_type": "stream",
     "text": [
      "330\n",
      "3\n",
      "Topic 0 Average Answer Date:  0 days 01:54:30\n"
     ]
    }
   ],
   "source": [
    "import pandas as pd\n",
    "\n",
    "df0 = pd.read_excel (r'Topic_modeling_results_per_topic12.xlsx',sheet_name='Topic_14.0')\n",
    "df0.creationdate = pd.to_datetime(df0['creationdate'])\n",
    "df0.AcceptedAnswerdate = pd.to_datetime(df0['AcceptedAnswerdate'])\n",
    "\n",
    "df0['diff'] = df0['AcceptedAnswerdate'] - df0['creationdate']\n",
    "# df01 = df0[df0['tagnames'].str.contains('hdl')]\n",
    "# print(df01)\n",
    "df01 = (df0.assign(tagnames = df0['tagnames'].str.split(','))\n",
    "         .explode('tagnames')\n",
    "         .reset_index(drop=True))\n",
    "print(len(df01.index))\n",
    "value_list = ['chisel']\n",
    "df02 = df01[df01['tagnames'].isin(value_list)]\n",
    "# df02['diff'] = df02['AcceptedAnswerdate'] - df02['creationdate']\n",
    "print(len(df02.index))\n",
    "print('Topic 0 Average Answer Date: ', df02['diff'].mean())"
   ]
  },
  {
   "cell_type": "code",
   "execution_count": 85,
   "id": "aa0d2a9b",
   "metadata": {},
   "outputs": [
    {
     "name": "stdout",
     "output_type": "stream",
     "text": [
      "2248\n",
      "83\n",
      "Topic 0 Average Answer Date:  7 days 22:12:17.142857142\n"
     ]
    }
   ],
   "source": [
    "import pandas as pd\n",
    "\n",
    "df0 = pd.read_excel (r'Topic_modeling_results_per_topic12.xlsx',sheet_name='Topic_15.0')\n",
    "df0.creationdate = pd.to_datetime(df0['creationdate'])\n",
    "df0.AcceptedAnswerdate = pd.to_datetime(df0['AcceptedAnswerdate'])\n",
    "\n",
    "df0['diff'] = df0['AcceptedAnswerdate'] - df0['creationdate']\n",
    "# df01 = df0[df0['tagnames'].str.contains('hdl')]\n",
    "# print(df01)\n",
    "df01 = (df0.assign(tagnames = df0['tagnames'].str.split(','))\n",
    "         .explode('tagnames')\n",
    "         .reset_index(drop=True))\n",
    "print(len(df01.index))\n",
    "value_list = ['chisel']\n",
    "df02 = df01[df01['tagnames'].isin(value_list)]\n",
    "# df02['diff'] = df02['AcceptedAnswerdate'] - df02['creationdate']\n",
    "print(len(df02.index))\n",
    "print('Topic 0 Average Answer Date: ', df02['diff'].mean())"
   ]
  }
 ],
 "metadata": {
  "kernelspec": {
   "display_name": "Python 3",
   "language": "python",
   "name": "python3"
  },
  "language_info": {
   "codemirror_mode": {
    "name": "ipython",
    "version": 3
   },
   "file_extension": ".py",
   "mimetype": "text/x-python",
   "name": "python",
   "nbconvert_exporter": "python",
   "pygments_lexer": "ipython3",
   "version": "3.8.8"
  }
 },
 "nbformat": 4,
 "nbformat_minor": 5
}
